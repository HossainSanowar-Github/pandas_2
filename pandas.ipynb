{
 "cells": [
  {
   "cell_type": "markdown",
   "id": "3ef76664",
   "metadata": {},
   "source": [
    "# Importing Libraries"
   ]
  },
  {
   "cell_type": "code",
   "execution_count": 1,
   "id": "7a799fe1",
   "metadata": {},
   "outputs": [],
   "source": [
    "import pandas as pd\n",
    "import numpy as np\n",
    "import matplotlib.pyplot as plt\n",
    "%matplotlib inline"
   ]
  },
  {
   "cell_type": "markdown",
   "id": "d0d7749f",
   "metadata": {},
   "source": [
    "# using pandas series"
   ]
  },
  {
   "cell_type": "code",
   "execution_count": 3,
   "id": "b64c884c",
   "metadata": {},
   "outputs": [],
   "source": [
    "list_1=['a','b','c','d']\n",
    "labels=[1,2,3,4]"
   ]
  },
  {
   "cell_type": "code",
   "execution_count": 7,
   "id": "562ef08e",
   "metadata": {},
   "outputs": [],
   "source": [
    "ser_1=pd.Series(data=list_1,index=labels)"
   ]
  },
  {
   "cell_type": "code",
   "execution_count": 8,
   "id": "8f5d10a4",
   "metadata": {},
   "outputs": [
    {
     "data": {
      "text/plain": [
       "1    a\n",
       "2    b\n",
       "3    c\n",
       "4    d\n",
       "dtype: object"
      ]
     },
     "execution_count": 8,
     "metadata": {},
     "output_type": "execute_result"
    }
   ],
   "source": [
    "ser_1"
   ]
  },
  {
   "cell_type": "markdown",
   "id": "1dd141f2",
   "metadata": {},
   "source": [
    "# Using numpy array"
   ]
  },
  {
   "cell_type": "code",
   "execution_count": 11,
   "id": "ec29e5d2",
   "metadata": {},
   "outputs": [
    {
     "data": {
      "text/plain": [
       "0    1\n",
       "1    2\n",
       "2    3\n",
       "3    4\n",
       "dtype: int64"
      ]
     },
     "execution_count": 11,
     "metadata": {},
     "output_type": "execute_result"
    }
   ],
   "source": [
    "arr_1=np.array([1,2,3,4])\n",
    "arr_2=pd.Series(arr_1)\n",
    "arr_2"
   ]
  },
  {
   "cell_type": "markdown",
   "id": "0ede4e9d",
   "metadata": {},
   "source": [
    "# Using dictionary"
   ]
  },
  {
   "cell_type": "code",
   "execution_count": 16,
   "id": "dd97e61e",
   "metadata": {},
   "outputs": [
    {
     "data": {
      "text/plain": [
       "name:         sanowar\n",
       "last_name:    hossain\n",
       "age:               34\n",
       "dtype: object"
      ]
     },
     "execution_count": 16,
     "metadata": {},
     "output_type": "execute_result"
    }
   ],
   "source": [
    "dict_1={'name:':'sanowar','last_name:':'hossain','age:':34}\n",
    "dict_2=pd.Series(dict_1)\n",
    "dict_2"
   ]
  },
  {
   "cell_type": "code",
   "execution_count": 22,
   "id": "813819d5",
   "metadata": {},
   "outputs": [
    {
     "data": {
      "text/plain": [
       "'sanowar'"
      ]
     },
     "execution_count": 22,
     "metadata": {},
     "output_type": "execute_result"
    }
   ],
   "source": [
    "dict_2['name:']#get the value or label"
   ]
  },
  {
   "cell_type": "code",
   "execution_count": 26,
   "id": "2b86a7a1",
   "metadata": {},
   "outputs": [
    {
     "data": {
      "text/plain": [
       "dtype('O')"
      ]
     },
     "execution_count": 26,
     "metadata": {},
     "output_type": "execute_result"
    }
   ],
   "source": [
    "dict_2.dtype#get the datatype"
   ]
  },
  {
   "cell_type": "markdown",
   "id": "70145969",
   "metadata": {},
   "source": [
    "# Using math operation of Series"
   ]
  },
  {
   "cell_type": "code",
   "execution_count": 27,
   "id": "2d2798e8",
   "metadata": {},
   "outputs": [
    {
     "data": {
      "text/plain": [
       "0    2\n",
       "1    4\n",
       "2    6\n",
       "3    8\n",
       "dtype: int64"
      ]
     },
     "execution_count": 27,
     "metadata": {},
     "output_type": "execute_result"
    }
   ],
   "source": [
    "arr_2+arr_2"
   ]
  },
  {
   "cell_type": "code",
   "execution_count": 28,
   "id": "810fdce9",
   "metadata": {},
   "outputs": [
    {
     "data": {
      "text/plain": [
       "0    0\n",
       "1    0\n",
       "2    0\n",
       "3    0\n",
       "dtype: int64"
      ]
     },
     "execution_count": 28,
     "metadata": {},
     "output_type": "execute_result"
    }
   ],
   "source": [
    "arr_2-arr_2"
   ]
  },
  {
   "cell_type": "code",
   "execution_count": 29,
   "id": "8b5423e5",
   "metadata": {},
   "outputs": [
    {
     "data": {
      "text/plain": [
       "0     1\n",
       "1     4\n",
       "2     9\n",
       "3    16\n",
       "dtype: int64"
      ]
     },
     "execution_count": 29,
     "metadata": {},
     "output_type": "execute_result"
    }
   ],
   "source": [
    "arr_2*arr_2"
   ]
  },
  {
   "cell_type": "code",
   "execution_count": 30,
   "id": "c293796c",
   "metadata": {},
   "outputs": [
    {
     "data": {
      "text/plain": [
       "0    1.0\n",
       "1    1.0\n",
       "2    1.0\n",
       "3    1.0\n",
       "dtype: float64"
      ]
     },
     "execution_count": 30,
     "metadata": {},
     "output_type": "execute_result"
    }
   ],
   "source": [
    "arr_2/arr_2"
   ]
  },
  {
   "cell_type": "markdown",
   "id": "f08fd829",
   "metadata": {},
   "source": [
    "# Using NumPy Methods"
   ]
  },
  {
   "cell_type": "code",
   "execution_count": 32,
   "id": "5d993655",
   "metadata": {},
   "outputs": [
    {
     "data": {
      "text/plain": [
       "0     2.718282\n",
       "1     7.389056\n",
       "2    20.085537\n",
       "3    54.598150\n",
       "dtype: float64"
      ]
     },
     "execution_count": 32,
     "metadata": {},
     "output_type": "execute_result"
    }
   ],
   "source": [
    "np.exp(arr_2)"
   ]
  },
  {
   "cell_type": "markdown",
   "id": "3edfe0ef",
   "metadata": {},
   "source": [
    "# Using DataFrames\n",
    "\n",
    "DataFrames are the most commonly used `data structure with Pandas`. They are made up of multiple series that share the same index / label. They can contain multiple data types. They can be created from `dicts, series, lists or other dataframes`."
   ]
  },
  {
   "cell_type": "code",
   "execution_count": 33,
   "id": "6b36f91c",
   "metadata": {},
   "outputs": [],
   "source": [
    "from numpy import random"
   ]
  },
  {
   "cell_type": "code",
   "execution_count": 40,
   "id": "2b277903",
   "metadata": {},
   "outputs": [
    {
     "data": {
      "text/plain": [
       "array([[14, 10],\n",
       "       [11, 30],\n",
       "       [23, 30]])"
      ]
     },
     "execution_count": 40,
     "metadata": {},
     "output_type": "execute_result"
    }
   ],
   "source": [
    "#create random matrix 2x3 with values between 10 to 50\n",
    "\n",
    "mat=np.random.randint(10,50,size=(3,2))\n",
    "mat"
   ]
  },
  {
   "cell_type": "code",
   "execution_count": 43,
   "id": "ad51d6ff",
   "metadata": {},
   "outputs": [
    {
     "data": {
      "text/html": [
       "<div>\n",
       "<style scoped>\n",
       "    .dataframe tbody tr th:only-of-type {\n",
       "        vertical-align: middle;\n",
       "    }\n",
       "\n",
       "    .dataframe tbody tr th {\n",
       "        vertical-align: top;\n",
       "    }\n",
       "\n",
       "    .dataframe thead th {\n",
       "        text-align: right;\n",
       "    }\n",
       "</style>\n",
       "<table border=\"1\" class=\"dataframe\">\n",
       "  <thead>\n",
       "    <tr style=\"text-align: right;\">\n",
       "      <th></th>\n",
       "      <th>d</th>\n",
       "      <th>e</th>\n",
       "    </tr>\n",
       "  </thead>\n",
       "  <tbody>\n",
       "    <tr>\n",
       "      <th>a</th>\n",
       "      <td>14</td>\n",
       "      <td>10</td>\n",
       "    </tr>\n",
       "    <tr>\n",
       "      <th>b</th>\n",
       "      <td>11</td>\n",
       "      <td>30</td>\n",
       "    </tr>\n",
       "    <tr>\n",
       "      <th>c</th>\n",
       "      <td>23</td>\n",
       "      <td>30</td>\n",
       "    </tr>\n",
       "  </tbody>\n",
       "</table>\n",
       "</div>"
      ],
      "text/plain": [
       "    d   e\n",
       "a  14  10\n",
       "b  11  30\n",
       "c  23  30"
      ]
     },
     "execution_count": 43,
     "metadata": {},
     "output_type": "execute_result"
    }
   ],
   "source": [
    "#create a DataFrame with row lables and columns labels\n",
    "\n",
    "df=pd.DataFrame(mat,['a','b','c'],['d','e'])\n",
    "df"
   ]
  },
  {
   "cell_type": "markdown",
   "id": "a6754632",
   "metadata": {},
   "source": [
    "# Create DataFrame using multiple series in a dictionary"
   ]
  },
  {
   "cell_type": "code",
   "execution_count": 44,
   "id": "713b0ade",
   "metadata": {},
   "outputs": [],
   "source": [
    "dict_3={'one':pd.Series([1,2,3],index=['a','b','c']),'two':pd.Series([4,5,6],index=['d','e','f'])}"
   ]
  },
  {
   "cell_type": "code",
   "execution_count": 47,
   "id": "1154f3c0",
   "metadata": {},
   "outputs": [
    {
     "data": {
      "text/html": [
       "<div>\n",
       "<style scoped>\n",
       "    .dataframe tbody tr th:only-of-type {\n",
       "        vertical-align: middle;\n",
       "    }\n",
       "\n",
       "    .dataframe tbody tr th {\n",
       "        vertical-align: top;\n",
       "    }\n",
       "\n",
       "    .dataframe thead th {\n",
       "        text-align: right;\n",
       "    }\n",
       "</style>\n",
       "<table border=\"1\" class=\"dataframe\">\n",
       "  <thead>\n",
       "    <tr style=\"text-align: right;\">\n",
       "      <th></th>\n",
       "      <th>one</th>\n",
       "      <th>two</th>\n",
       "    </tr>\n",
       "  </thead>\n",
       "  <tbody>\n",
       "    <tr>\n",
       "      <th>a</th>\n",
       "      <td>1.0</td>\n",
       "      <td>NaN</td>\n",
       "    </tr>\n",
       "    <tr>\n",
       "      <th>b</th>\n",
       "      <td>2.0</td>\n",
       "      <td>NaN</td>\n",
       "    </tr>\n",
       "    <tr>\n",
       "      <th>c</th>\n",
       "      <td>3.0</td>\n",
       "      <td>NaN</td>\n",
       "    </tr>\n",
       "    <tr>\n",
       "      <th>d</th>\n",
       "      <td>NaN</td>\n",
       "      <td>4.0</td>\n",
       "    </tr>\n",
       "    <tr>\n",
       "      <th>e</th>\n",
       "      <td>NaN</td>\n",
       "      <td>5.0</td>\n",
       "    </tr>\n",
       "    <tr>\n",
       "      <th>f</th>\n",
       "      <td>NaN</td>\n",
       "      <td>6.0</td>\n",
       "    </tr>\n",
       "  </tbody>\n",
       "</table>\n",
       "</div>"
      ],
      "text/plain": [
       "   one  two\n",
       "a  1.0  NaN\n",
       "b  2.0  NaN\n",
       "c  3.0  NaN\n",
       "d  NaN  4.0\n",
       "e  NaN  5.0\n",
       "f  NaN  6.0"
      ]
     },
     "execution_count": 47,
     "metadata": {},
     "output_type": "execute_result"
    }
   ],
   "source": [
    "df_1=pd.DataFrame(dict_3)\n",
    "df_1"
   ]
  },
  {
   "cell_type": "markdown",
   "id": "1d4e46e7",
   "metadata": {},
   "source": [
    "# from dict accepts a column labels and lists"
   ]
  },
  {
   "cell_type": "code",
   "execution_count": 49,
   "id": "8aac45cc",
   "metadata": {},
   "outputs": [
    {
     "data": {
      "text/html": [
       "<div>\n",
       "<style scoped>\n",
       "    .dataframe tbody tr th:only-of-type {\n",
       "        vertical-align: middle;\n",
       "    }\n",
       "\n",
       "    .dataframe tbody tr th {\n",
       "        vertical-align: top;\n",
       "    }\n",
       "\n",
       "    .dataframe thead th {\n",
       "        text-align: right;\n",
       "    }\n",
       "</style>\n",
       "<table border=\"1\" class=\"dataframe\">\n",
       "  <thead>\n",
       "    <tr style=\"text-align: right;\">\n",
       "      <th></th>\n",
       "      <th>A</th>\n",
       "      <th>B</th>\n",
       "    </tr>\n",
       "  </thead>\n",
       "  <tbody>\n",
       "    <tr>\n",
       "      <th>0</th>\n",
       "      <td>1</td>\n",
       "      <td>4</td>\n",
       "    </tr>\n",
       "    <tr>\n",
       "      <th>1</th>\n",
       "      <td>2</td>\n",
       "      <td>5</td>\n",
       "    </tr>\n",
       "    <tr>\n",
       "      <th>2</th>\n",
       "      <td>3</td>\n",
       "      <td>6</td>\n",
       "    </tr>\n",
       "  </tbody>\n",
       "</table>\n",
       "</div>"
      ],
      "text/plain": [
       "   A  B\n",
       "0  1  4\n",
       "1  2  5\n",
       "2  3  6"
      ]
     },
     "execution_count": 49,
     "metadata": {},
     "output_type": "execute_result"
    }
   ],
   "source": [
    "pd.DataFrame.from_dict(dict([('A',[1,2,3]),('B',[4,5,6])]))"
   ]
  },
  {
   "cell_type": "code",
   "execution_count": 50,
   "id": "16621e33",
   "metadata": {},
   "outputs": [
    {
     "data": {
      "text/html": [
       "<div>\n",
       "<style scoped>\n",
       "    .dataframe tbody tr th:only-of-type {\n",
       "        vertical-align: middle;\n",
       "    }\n",
       "\n",
       "    .dataframe tbody tr th {\n",
       "        vertical-align: top;\n",
       "    }\n",
       "\n",
       "    .dataframe thead th {\n",
       "        text-align: right;\n",
       "    }\n",
       "</style>\n",
       "<table border=\"1\" class=\"dataframe\">\n",
       "  <thead>\n",
       "    <tr style=\"text-align: right;\">\n",
       "      <th></th>\n",
       "      <th>one</th>\n",
       "      <th>two</th>\n",
       "      <th>three</th>\n",
       "    </tr>\n",
       "  </thead>\n",
       "  <tbody>\n",
       "    <tr>\n",
       "      <th>A</th>\n",
       "      <td>1</td>\n",
       "      <td>2</td>\n",
       "      <td>3</td>\n",
       "    </tr>\n",
       "    <tr>\n",
       "      <th>B</th>\n",
       "      <td>4</td>\n",
       "      <td>5</td>\n",
       "      <td>6</td>\n",
       "    </tr>\n",
       "  </tbody>\n",
       "</table>\n",
       "</div>"
      ],
      "text/plain": [
       "   one  two  three\n",
       "A    1    2      3\n",
       "B    4    5      6"
      ]
     },
     "execution_count": 50,
     "metadata": {},
     "output_type": "execute_result"
    }
   ],
   "source": [
    "# You can assign the keys as row labels and column labels separate\n",
    "# with orient='index'\n",
    "pd.DataFrame.from_dict(dict([(\"A\",[1,2,3]),('B',[4,5,6])]),orient='index',columns=['one','two','three'])"
   ]
  },
  {
   "cell_type": "code",
   "execution_count": 51,
   "id": "e17402e1",
   "metadata": {},
   "outputs": [
    {
     "name": "stdout",
     "output_type": "stream",
     "text": [
      "(6, 2)\n"
     ]
    }
   ],
   "source": [
    "#get number of rows and columns as tuple\n",
    "print(df_1.shape)"
   ]
  },
  {
   "cell_type": "markdown",
   "id": "382a9098",
   "metadata": {},
   "source": [
    "# Editing and Retrieving Data"
   ]
  },
  {
   "cell_type": "markdown",
   "id": "fe6322ee",
   "metadata": {},
   "source": [
    "### show single column"
   ]
  },
  {
   "cell_type": "code",
   "execution_count": 53,
   "id": "0eb06368",
   "metadata": {},
   "outputs": [
    {
     "data": {
      "text/plain": [
       "a    14\n",
       "b    11\n",
       "c    23\n",
       "Name: d, dtype: int64"
      ]
     },
     "execution_count": 53,
     "metadata": {},
     "output_type": "execute_result"
    }
   ],
   "source": [
    "df['d']"
   ]
  },
  {
   "cell_type": "markdown",
   "id": "f6693056",
   "metadata": {},
   "source": [
    "### show multiple column"
   ]
  },
  {
   "cell_type": "code",
   "execution_count": 55,
   "id": "b21d031b",
   "metadata": {},
   "outputs": [
    {
     "data": {
      "text/html": [
       "<div>\n",
       "<style scoped>\n",
       "    .dataframe tbody tr th:only-of-type {\n",
       "        vertical-align: middle;\n",
       "    }\n",
       "\n",
       "    .dataframe tbody tr th {\n",
       "        vertical-align: top;\n",
       "    }\n",
       "\n",
       "    .dataframe thead th {\n",
       "        text-align: right;\n",
       "    }\n",
       "</style>\n",
       "<table border=\"1\" class=\"dataframe\">\n",
       "  <thead>\n",
       "    <tr style=\"text-align: right;\">\n",
       "      <th></th>\n",
       "      <th>d</th>\n",
       "      <th>e</th>\n",
       "    </tr>\n",
       "  </thead>\n",
       "  <tbody>\n",
       "    <tr>\n",
       "      <th>a</th>\n",
       "      <td>14</td>\n",
       "      <td>10</td>\n",
       "    </tr>\n",
       "    <tr>\n",
       "      <th>b</th>\n",
       "      <td>11</td>\n",
       "      <td>30</td>\n",
       "    </tr>\n",
       "    <tr>\n",
       "      <th>c</th>\n",
       "      <td>23</td>\n",
       "      <td>30</td>\n",
       "    </tr>\n",
       "  </tbody>\n",
       "</table>\n",
       "</div>"
      ],
      "text/plain": [
       "    d   e\n",
       "a  14  10\n",
       "b  11  30\n",
       "c  23  30"
      ]
     },
     "execution_count": 55,
     "metadata": {},
     "output_type": "execute_result"
    }
   ],
   "source": [
    "df[['d','e']]"
   ]
  },
  {
   "cell_type": "markdown",
   "id": "fffa69cc",
   "metadata": {},
   "source": [
    "### Grab row as a Series"
   ]
  },
  {
   "cell_type": "code",
   "execution_count": 59,
   "id": "c6effc5a",
   "metadata": {},
   "outputs": [
    {
     "data": {
      "text/plain": [
       "d    23\n",
       "e    30\n",
       "Name: c, dtype: int64"
      ]
     },
     "execution_count": 59,
     "metadata": {},
     "output_type": "execute_result"
    }
   ],
   "source": [
    "df.loc['c']"
   ]
  },
  {
   "cell_type": "markdown",
   "id": "ef9335ab",
   "metadata": {},
   "source": [
    "### Grab cell with row and column"
   ]
  },
  {
   "cell_type": "code",
   "execution_count": 62,
   "id": "d085882f",
   "metadata": {},
   "outputs": [
    {
     "data": {
      "text/plain": [
       "14"
      ]
     },
     "execution_count": 62,
     "metadata": {},
     "output_type": "execute_result"
    }
   ],
   "source": [
    "df.loc['a','d']#first row then column"
   ]
  },
  {
   "cell_type": "code",
   "execution_count": 63,
   "id": "5fb5c7bc",
   "metadata": {},
   "outputs": [
    {
     "data": {
      "text/plain": [
       "23"
      ]
     },
     "execution_count": 63,
     "metadata": {},
     "output_type": "execute_result"
    }
   ],
   "source": [
    "df.loc['c','d']"
   ]
  },
  {
   "cell_type": "markdown",
   "id": "e7a9c698",
   "metadata": {},
   "source": [
    "#### Grab multiple cell"
   ]
  },
  {
   "cell_type": "code",
   "execution_count": 74,
   "id": "3e229138",
   "metadata": {},
   "outputs": [
    {
     "name": "stdout",
     "output_type": "stream",
     "text": [
      "    d   e\n",
      "a  14  10\n"
     ]
    }
   ],
   "source": [
    "print(df.loc[['a','b'],['d','e']])"
   ]
  },
  {
   "cell_type": "markdown",
   "id": "d8ad9049",
   "metadata": {},
   "source": [
    "## Grab Row by index position\n",
    "\n",
    "colon : means range"
   ]
  },
  {
   "cell_type": "code",
   "execution_count": 77,
   "id": "7807b040",
   "metadata": {},
   "outputs": [
    {
     "data": {
      "text/plain": [
       "d    14\n",
       "e    10\n",
       "Name: a, dtype: int64"
      ]
     },
     "execution_count": 77,
     "metadata": {},
     "output_type": "execute_result"
    }
   ],
   "source": [
    "df.iloc[0]#1st row"
   ]
  },
  {
   "cell_type": "code",
   "execution_count": 78,
   "id": "37a7338d",
   "metadata": {},
   "outputs": [
    {
     "data": {
      "text/plain": [
       "d    11\n",
       "e    30\n",
       "Name: b, dtype: int64"
      ]
     },
     "execution_count": 78,
     "metadata": {},
     "output_type": "execute_result"
    }
   ],
   "source": [
    "df.iloc[1]#2nd row"
   ]
  },
  {
   "cell_type": "code",
   "execution_count": 79,
   "id": "81576ee8",
   "metadata": {},
   "outputs": [
    {
     "data": {
      "text/html": [
       "<div>\n",
       "<style scoped>\n",
       "    .dataframe tbody tr th:only-of-type {\n",
       "        vertical-align: middle;\n",
       "    }\n",
       "\n",
       "    .dataframe tbody tr th {\n",
       "        vertical-align: top;\n",
       "    }\n",
       "\n",
       "    .dataframe thead th {\n",
       "        text-align: right;\n",
       "    }\n",
       "</style>\n",
       "<table border=\"1\" class=\"dataframe\">\n",
       "  <thead>\n",
       "    <tr style=\"text-align: right;\">\n",
       "      <th></th>\n",
       "      <th>d</th>\n",
       "      <th>e</th>\n",
       "    </tr>\n",
       "  </thead>\n",
       "  <tbody>\n",
       "    <tr>\n",
       "      <th>a</th>\n",
       "      <td>14</td>\n",
       "      <td>10</td>\n",
       "    </tr>\n",
       "    <tr>\n",
       "      <th>b</th>\n",
       "      <td>11</td>\n",
       "      <td>30</td>\n",
       "    </tr>\n",
       "    <tr>\n",
       "      <th>c</th>\n",
       "      <td>23</td>\n",
       "      <td>30</td>\n",
       "    </tr>\n",
       "  </tbody>\n",
       "</table>\n",
       "</div>"
      ],
      "text/plain": [
       "    d   e\n",
       "a  14  10\n",
       "b  11  30\n",
       "c  23  30"
      ]
     },
     "execution_count": 79,
     "metadata": {},
     "output_type": "execute_result"
    }
   ],
   "source": [
    "df.iloc[:]#all rows and columns"
   ]
  },
  {
   "cell_type": "code",
   "execution_count": 80,
   "id": "fb5eb951",
   "metadata": {},
   "outputs": [
    {
     "data": {
      "text/html": [
       "<div>\n",
       "<style scoped>\n",
       "    .dataframe tbody tr th:only-of-type {\n",
       "        vertical-align: middle;\n",
       "    }\n",
       "\n",
       "    .dataframe tbody tr th {\n",
       "        vertical-align: top;\n",
       "    }\n",
       "\n",
       "    .dataframe thead th {\n",
       "        text-align: right;\n",
       "    }\n",
       "</style>\n",
       "<table border=\"1\" class=\"dataframe\">\n",
       "  <thead>\n",
       "    <tr style=\"text-align: right;\">\n",
       "      <th></th>\n",
       "      <th>d</th>\n",
       "      <th>e</th>\n",
       "    </tr>\n",
       "  </thead>\n",
       "  <tbody>\n",
       "    <tr>\n",
       "      <th>b</th>\n",
       "      <td>11</td>\n",
       "      <td>30</td>\n",
       "    </tr>\n",
       "    <tr>\n",
       "      <th>c</th>\n",
       "      <td>23</td>\n",
       "      <td>30</td>\n",
       "    </tr>\n",
       "  </tbody>\n",
       "</table>\n",
       "</div>"
      ],
      "text/plain": [
       "    d   e\n",
       "b  11  30\n",
       "c  23  30"
      ]
     },
     "execution_count": 80,
     "metadata": {},
     "output_type": "execute_result"
    }
   ],
   "source": [
    "df.iloc[1:]#2nd row and all columns"
   ]
  },
  {
   "cell_type": "code",
   "execution_count": 81,
   "id": "7cf84d55",
   "metadata": {},
   "outputs": [
    {
     "data": {
      "text/plain": [
       "a    10\n",
       "b    30\n",
       "c    30\n",
       "Name: e, dtype: int64"
      ]
     },
     "execution_count": 81,
     "metadata": {},
     "output_type": "execute_result"
    }
   ],
   "source": [
    "df.iloc[:,-1]#all rows and last column"
   ]
  },
  {
   "cell_type": "code",
   "execution_count": 82,
   "id": "d45f0e7d",
   "metadata": {},
   "outputs": [
    {
     "data": {
      "text/html": [
       "<div>\n",
       "<style scoped>\n",
       "    .dataframe tbody tr th:only-of-type {\n",
       "        vertical-align: middle;\n",
       "    }\n",
       "\n",
       "    .dataframe tbody tr th {\n",
       "        vertical-align: top;\n",
       "    }\n",
       "\n",
       "    .dataframe thead th {\n",
       "        text-align: right;\n",
       "    }\n",
       "</style>\n",
       "<table border=\"1\" class=\"dataframe\">\n",
       "  <thead>\n",
       "    <tr style=\"text-align: right;\">\n",
       "      <th></th>\n",
       "      <th>d</th>\n",
       "    </tr>\n",
       "  </thead>\n",
       "  <tbody>\n",
       "    <tr>\n",
       "      <th>a</th>\n",
       "      <td>14</td>\n",
       "    </tr>\n",
       "    <tr>\n",
       "      <th>b</th>\n",
       "      <td>11</td>\n",
       "    </tr>\n",
       "    <tr>\n",
       "      <th>c</th>\n",
       "      <td>23</td>\n",
       "    </tr>\n",
       "  </tbody>\n",
       "</table>\n",
       "</div>"
      ],
      "text/plain": [
       "    d\n",
       "a  14\n",
       "b  11\n",
       "c  23"
      ]
     },
     "execution_count": 82,
     "metadata": {},
     "output_type": "execute_result"
    }
   ],
   "source": [
    "df.iloc[:, :-1]#all rows and all columns except last column"
   ]
  },
  {
   "cell_type": "code",
   "execution_count": 84,
   "id": "dd8937b2",
   "metadata": {},
   "outputs": [
    {
     "data": {
      "text/html": [
       "<div>\n",
       "<style scoped>\n",
       "    .dataframe tbody tr th:only-of-type {\n",
       "        vertical-align: middle;\n",
       "    }\n",
       "\n",
       "    .dataframe tbody tr th {\n",
       "        vertical-align: top;\n",
       "    }\n",
       "\n",
       "    .dataframe thead th {\n",
       "        text-align: right;\n",
       "    }\n",
       "</style>\n",
       "<table border=\"1\" class=\"dataframe\">\n",
       "  <thead>\n",
       "    <tr style=\"text-align: right;\">\n",
       "      <th></th>\n",
       "      <th>d</th>\n",
       "    </tr>\n",
       "  </thead>\n",
       "  <tbody>\n",
       "    <tr>\n",
       "      <th>a</th>\n",
       "      <td>14</td>\n",
       "    </tr>\n",
       "    <tr>\n",
       "      <th>b</th>\n",
       "      <td>11</td>\n",
       "    </tr>\n",
       "  </tbody>\n",
       "</table>\n",
       "</div>"
      ],
      "text/plain": [
       "    d\n",
       "a  14\n",
       "b  11"
      ]
     },
     "execution_count": 84,
     "metadata": {},
     "output_type": "execute_result"
    }
   ],
   "source": [
    "df.iloc[:2,:-1]"
   ]
  },
  {
   "cell_type": "markdown",
   "id": "c55f6966",
   "metadata": {},
   "source": [
    "# Mathmatical Operation "
   ]
  },
  {
   "cell_type": "code",
   "execution_count": 93,
   "id": "12369b7e",
   "metadata": {},
   "outputs": [
    {
     "data": {
      "text/plain": [
       "a    24.0\n",
       "b    41.0\n",
       "c    53.0\n",
       "f     NaN\n",
       "f     NaN\n",
       "f     NaN\n",
       "Name: total, dtype: float64"
      ]
     },
     "execution_count": 93,
     "metadata": {},
     "output_type": "execute_result"
    }
   ],
   "source": [
    "df['total']=df['d']+df['e']#row wise total\n",
    "df['total']"
   ]
  },
  {
   "cell_type": "code",
   "execution_count": 94,
   "id": "d8b094f0",
   "metadata": {},
   "outputs": [
    {
     "data": {
      "text/plain": [
       "a    140.0\n",
       "b    330.0\n",
       "c    690.0\n",
       "f      NaN\n",
       "f      NaN\n",
       "f      NaN\n",
       "dtype: float64"
      ]
     },
     "execution_count": 94,
     "metadata": {},
     "output_type": "execute_result"
    }
   ],
   "source": [
    "df_mul=df['d']*df['e']\n",
    "df_mul"
   ]
  },
  {
   "cell_type": "markdown",
   "id": "ce7ad2c3",
   "metadata": {},
   "source": [
    "# Make a new row by appending"
   ]
  },
  {
   "cell_type": "code",
   "execution_count": 95,
   "id": "58a16218",
   "metadata": {},
   "outputs": [
    {
     "data": {
      "text/html": [
       "<div>\n",
       "<style scoped>\n",
       "    .dataframe tbody tr th:only-of-type {\n",
       "        vertical-align: middle;\n",
       "    }\n",
       "\n",
       "    .dataframe tbody tr th {\n",
       "        vertical-align: top;\n",
       "    }\n",
       "\n",
       "    .dataframe thead th {\n",
       "        text-align: right;\n",
       "    }\n",
       "</style>\n",
       "<table border=\"1\" class=\"dataframe\">\n",
       "  <thead>\n",
       "    <tr style=\"text-align: right;\">\n",
       "      <th></th>\n",
       "      <th>d</th>\n",
       "      <th>e</th>\n",
       "      <th>C</th>\n",
       "      <th>D</th>\n",
       "      <th>E</th>\n",
       "      <th>total</th>\n",
       "    </tr>\n",
       "  </thead>\n",
       "  <tbody>\n",
       "    <tr>\n",
       "      <th>a</th>\n",
       "      <td>14.0</td>\n",
       "      <td>10.0</td>\n",
       "      <td>NaN</td>\n",
       "      <td>NaN</td>\n",
       "      <td>NaN</td>\n",
       "      <td>24.0</td>\n",
       "    </tr>\n",
       "    <tr>\n",
       "      <th>b</th>\n",
       "      <td>11.0</td>\n",
       "      <td>30.0</td>\n",
       "      <td>NaN</td>\n",
       "      <td>NaN</td>\n",
       "      <td>NaN</td>\n",
       "      <td>41.0</td>\n",
       "    </tr>\n",
       "    <tr>\n",
       "      <th>c</th>\n",
       "      <td>23.0</td>\n",
       "      <td>30.0</td>\n",
       "      <td>NaN</td>\n",
       "      <td>NaN</td>\n",
       "      <td>NaN</td>\n",
       "      <td>53.0</td>\n",
       "    </tr>\n",
       "    <tr>\n",
       "      <th>f</th>\n",
       "      <td>NaN</td>\n",
       "      <td>NaN</td>\n",
       "      <td>44.0</td>\n",
       "      <td>45.0</td>\n",
       "      <td>46.0</td>\n",
       "      <td>NaN</td>\n",
       "    </tr>\n",
       "    <tr>\n",
       "      <th>f</th>\n",
       "      <td>NaN</td>\n",
       "      <td>NaN</td>\n",
       "      <td>44.0</td>\n",
       "      <td>45.0</td>\n",
       "      <td>46.0</td>\n",
       "      <td>NaN</td>\n",
       "    </tr>\n",
       "    <tr>\n",
       "      <th>f</th>\n",
       "      <td>NaN</td>\n",
       "      <td>NaN</td>\n",
       "      <td>44.0</td>\n",
       "      <td>45.0</td>\n",
       "      <td>46.0</td>\n",
       "      <td>NaN</td>\n",
       "    </tr>\n",
       "    <tr>\n",
       "      <th>f</th>\n",
       "      <td>NaN</td>\n",
       "      <td>NaN</td>\n",
       "      <td>44.0</td>\n",
       "      <td>45.0</td>\n",
       "      <td>46.0</td>\n",
       "      <td>NaN</td>\n",
       "    </tr>\n",
       "  </tbody>\n",
       "</table>\n",
       "</div>"
      ],
      "text/plain": [
       "      d     e     C     D     E  total\n",
       "a  14.0  10.0   NaN   NaN   NaN   24.0\n",
       "b  11.0  30.0   NaN   NaN   NaN   41.0\n",
       "c  23.0  30.0   NaN   NaN   NaN   53.0\n",
       "f   NaN   NaN  44.0  45.0  46.0    NaN\n",
       "f   NaN   NaN  44.0  45.0  46.0    NaN\n",
       "f   NaN   NaN  44.0  45.0  46.0    NaN\n",
       "f   NaN   NaN  44.0  45.0  46.0    NaN"
      ]
     },
     "execution_count": 95,
     "metadata": {},
     "output_type": "execute_result"
    }
   ],
   "source": [
    "dict_2={'C':44,'D':45,\"E\":46}\n",
    "new_row=pd.Series(dict_2,name='f')\n",
    "df=df.append(new_row)\n",
    "df"
   ]
  },
  {
   "cell_type": "markdown",
   "id": "84386ef5",
   "metadata": {},
   "source": [
    "# removing the column "
   ]
  },
  {
   "cell_type": "code",
   "execution_count": 96,
   "id": "67fdb042",
   "metadata": {},
   "outputs": [],
   "source": [
    "df.drop('total',axis=1, inplace=True)\n"
   ]
  },
  {
   "cell_type": "code",
   "execution_count": 97,
   "id": "3817b88e",
   "metadata": {},
   "outputs": [
    {
     "data": {
      "text/html": [
       "<div>\n",
       "<style scoped>\n",
       "    .dataframe tbody tr th:only-of-type {\n",
       "        vertical-align: middle;\n",
       "    }\n",
       "\n",
       "    .dataframe tbody tr th {\n",
       "        vertical-align: top;\n",
       "    }\n",
       "\n",
       "    .dataframe thead th {\n",
       "        text-align: right;\n",
       "    }\n",
       "</style>\n",
       "<table border=\"1\" class=\"dataframe\">\n",
       "  <thead>\n",
       "    <tr style=\"text-align: right;\">\n",
       "      <th></th>\n",
       "      <th>d</th>\n",
       "      <th>e</th>\n",
       "      <th>C</th>\n",
       "      <th>D</th>\n",
       "      <th>E</th>\n",
       "    </tr>\n",
       "  </thead>\n",
       "  <tbody>\n",
       "    <tr>\n",
       "      <th>a</th>\n",
       "      <td>14.0</td>\n",
       "      <td>10.0</td>\n",
       "      <td>NaN</td>\n",
       "      <td>NaN</td>\n",
       "      <td>NaN</td>\n",
       "    </tr>\n",
       "    <tr>\n",
       "      <th>b</th>\n",
       "      <td>11.0</td>\n",
       "      <td>30.0</td>\n",
       "      <td>NaN</td>\n",
       "      <td>NaN</td>\n",
       "      <td>NaN</td>\n",
       "    </tr>\n",
       "    <tr>\n",
       "      <th>c</th>\n",
       "      <td>23.0</td>\n",
       "      <td>30.0</td>\n",
       "      <td>NaN</td>\n",
       "      <td>NaN</td>\n",
       "      <td>NaN</td>\n",
       "    </tr>\n",
       "    <tr>\n",
       "      <th>f</th>\n",
       "      <td>NaN</td>\n",
       "      <td>NaN</td>\n",
       "      <td>44.0</td>\n",
       "      <td>45.0</td>\n",
       "      <td>46.0</td>\n",
       "    </tr>\n",
       "    <tr>\n",
       "      <th>f</th>\n",
       "      <td>NaN</td>\n",
       "      <td>NaN</td>\n",
       "      <td>44.0</td>\n",
       "      <td>45.0</td>\n",
       "      <td>46.0</td>\n",
       "    </tr>\n",
       "    <tr>\n",
       "      <th>f</th>\n",
       "      <td>NaN</td>\n",
       "      <td>NaN</td>\n",
       "      <td>44.0</td>\n",
       "      <td>45.0</td>\n",
       "      <td>46.0</td>\n",
       "    </tr>\n",
       "    <tr>\n",
       "      <th>f</th>\n",
       "      <td>NaN</td>\n",
       "      <td>NaN</td>\n",
       "      <td>44.0</td>\n",
       "      <td>45.0</td>\n",
       "      <td>46.0</td>\n",
       "    </tr>\n",
       "  </tbody>\n",
       "</table>\n",
       "</div>"
      ],
      "text/plain": [
       "      d     e     C     D     E\n",
       "a  14.0  10.0   NaN   NaN   NaN\n",
       "b  11.0  30.0   NaN   NaN   NaN\n",
       "c  23.0  30.0   NaN   NaN   NaN\n",
       "f   NaN   NaN  44.0  45.0  46.0\n",
       "f   NaN   NaN  44.0  45.0  46.0\n",
       "f   NaN   NaN  44.0  45.0  46.0\n",
       "f   NaN   NaN  44.0  45.0  46.0"
      ]
     },
     "execution_count": 97,
     "metadata": {},
     "output_type": "execute_result"
    }
   ],
   "source": [
    "df"
   ]
  },
  {
   "cell_type": "markdown",
   "id": "32582daa",
   "metadata": {},
   "source": [
    "# Removing row\n"
   ]
  },
  {
   "cell_type": "code",
   "execution_count": 98,
   "id": "762d0342",
   "metadata": {},
   "outputs": [],
   "source": [
    "df.drop('f',axis=0,inplace=True)"
   ]
  },
  {
   "cell_type": "code",
   "execution_count": 99,
   "id": "152776ee",
   "metadata": {},
   "outputs": [
    {
     "data": {
      "text/html": [
       "<div>\n",
       "<style scoped>\n",
       "    .dataframe tbody tr th:only-of-type {\n",
       "        vertical-align: middle;\n",
       "    }\n",
       "\n",
       "    .dataframe tbody tr th {\n",
       "        vertical-align: top;\n",
       "    }\n",
       "\n",
       "    .dataframe thead th {\n",
       "        text-align: right;\n",
       "    }\n",
       "</style>\n",
       "<table border=\"1\" class=\"dataframe\">\n",
       "  <thead>\n",
       "    <tr style=\"text-align: right;\">\n",
       "      <th></th>\n",
       "      <th>d</th>\n",
       "      <th>e</th>\n",
       "      <th>C</th>\n",
       "      <th>D</th>\n",
       "      <th>E</th>\n",
       "    </tr>\n",
       "  </thead>\n",
       "  <tbody>\n",
       "    <tr>\n",
       "      <th>a</th>\n",
       "      <td>14.0</td>\n",
       "      <td>10.0</td>\n",
       "      <td>NaN</td>\n",
       "      <td>NaN</td>\n",
       "      <td>NaN</td>\n",
       "    </tr>\n",
       "    <tr>\n",
       "      <th>b</th>\n",
       "      <td>11.0</td>\n",
       "      <td>30.0</td>\n",
       "      <td>NaN</td>\n",
       "      <td>NaN</td>\n",
       "      <td>NaN</td>\n",
       "    </tr>\n",
       "    <tr>\n",
       "      <th>c</th>\n",
       "      <td>23.0</td>\n",
       "      <td>30.0</td>\n",
       "      <td>NaN</td>\n",
       "      <td>NaN</td>\n",
       "      <td>NaN</td>\n",
       "    </tr>\n",
       "  </tbody>\n",
       "</table>\n",
       "</div>"
      ],
      "text/plain": [
       "      d     e   C   D   E\n",
       "a  14.0  10.0 NaN NaN NaN\n",
       "b  11.0  30.0 NaN NaN NaN\n",
       "c  23.0  30.0 NaN NaN NaN"
      ]
     },
     "execution_count": 99,
     "metadata": {},
     "output_type": "execute_result"
    }
   ],
   "source": [
    "df"
   ]
  },
  {
   "cell_type": "markdown",
   "id": "7fd1af6a",
   "metadata": {},
   "source": [
    "# Create new column and make it index"
   ]
  },
  {
   "cell_type": "code",
   "execution_count": 101,
   "id": "457ccd4d",
   "metadata": {},
   "outputs": [],
   "source": [
    "df['sex']=['men','women','both']"
   ]
  },
  {
   "cell_type": "code",
   "execution_count": 102,
   "id": "f1a342d3",
   "metadata": {},
   "outputs": [],
   "source": [
    "df.set_index('sex',inplace=True)"
   ]
  },
  {
   "cell_type": "code",
   "execution_count": 103,
   "id": "5b474a08",
   "metadata": {},
   "outputs": [
    {
     "data": {
      "text/html": [
       "<div>\n",
       "<style scoped>\n",
       "    .dataframe tbody tr th:only-of-type {\n",
       "        vertical-align: middle;\n",
       "    }\n",
       "\n",
       "    .dataframe tbody tr th {\n",
       "        vertical-align: top;\n",
       "    }\n",
       "\n",
       "    .dataframe thead th {\n",
       "        text-align: right;\n",
       "    }\n",
       "</style>\n",
       "<table border=\"1\" class=\"dataframe\">\n",
       "  <thead>\n",
       "    <tr style=\"text-align: right;\">\n",
       "      <th></th>\n",
       "      <th>d</th>\n",
       "      <th>e</th>\n",
       "      <th>C</th>\n",
       "      <th>D</th>\n",
       "      <th>E</th>\n",
       "    </tr>\n",
       "    <tr>\n",
       "      <th>sex</th>\n",
       "      <th></th>\n",
       "      <th></th>\n",
       "      <th></th>\n",
       "      <th></th>\n",
       "      <th></th>\n",
       "    </tr>\n",
       "  </thead>\n",
       "  <tbody>\n",
       "    <tr>\n",
       "      <th>men</th>\n",
       "      <td>14.0</td>\n",
       "      <td>10.0</td>\n",
       "      <td>NaN</td>\n",
       "      <td>NaN</td>\n",
       "      <td>NaN</td>\n",
       "    </tr>\n",
       "    <tr>\n",
       "      <th>women</th>\n",
       "      <td>11.0</td>\n",
       "      <td>30.0</td>\n",
       "      <td>NaN</td>\n",
       "      <td>NaN</td>\n",
       "      <td>NaN</td>\n",
       "    </tr>\n",
       "    <tr>\n",
       "      <th>both</th>\n",
       "      <td>23.0</td>\n",
       "      <td>30.0</td>\n",
       "      <td>NaN</td>\n",
       "      <td>NaN</td>\n",
       "      <td>NaN</td>\n",
       "    </tr>\n",
       "  </tbody>\n",
       "</table>\n",
       "</div>"
      ],
      "text/plain": [
       "          d     e   C   D   E\n",
       "sex                          \n",
       "men    14.0  10.0 NaN NaN NaN\n",
       "women  11.0  30.0 NaN NaN NaN\n",
       "both   23.0  30.0 NaN NaN NaN"
      ]
     },
     "execution_count": 103,
     "metadata": {},
     "output_type": "execute_result"
    }
   ],
   "source": [
    "df"
   ]
  },
  {
   "cell_type": "markdown",
   "id": "fe57e378",
   "metadata": {},
   "source": [
    "# Create reset index values to number"
   ]
  },
  {
   "cell_type": "code",
   "execution_count": 104,
   "id": "e59e4100",
   "metadata": {},
   "outputs": [],
   "source": [
    "df.reset_index(inplace=True)"
   ]
  },
  {
   "cell_type": "code",
   "execution_count": 105,
   "id": "87d00afa",
   "metadata": {},
   "outputs": [
    {
     "data": {
      "text/html": [
       "<div>\n",
       "<style scoped>\n",
       "    .dataframe tbody tr th:only-of-type {\n",
       "        vertical-align: middle;\n",
       "    }\n",
       "\n",
       "    .dataframe tbody tr th {\n",
       "        vertical-align: top;\n",
       "    }\n",
       "\n",
       "    .dataframe thead th {\n",
       "        text-align: right;\n",
       "    }\n",
       "</style>\n",
       "<table border=\"1\" class=\"dataframe\">\n",
       "  <thead>\n",
       "    <tr style=\"text-align: right;\">\n",
       "      <th></th>\n",
       "      <th>sex</th>\n",
       "      <th>d</th>\n",
       "      <th>e</th>\n",
       "      <th>C</th>\n",
       "      <th>D</th>\n",
       "      <th>E</th>\n",
       "    </tr>\n",
       "  </thead>\n",
       "  <tbody>\n",
       "    <tr>\n",
       "      <th>0</th>\n",
       "      <td>men</td>\n",
       "      <td>14.0</td>\n",
       "      <td>10.0</td>\n",
       "      <td>NaN</td>\n",
       "      <td>NaN</td>\n",
       "      <td>NaN</td>\n",
       "    </tr>\n",
       "    <tr>\n",
       "      <th>1</th>\n",
       "      <td>women</td>\n",
       "      <td>11.0</td>\n",
       "      <td>30.0</td>\n",
       "      <td>NaN</td>\n",
       "      <td>NaN</td>\n",
       "      <td>NaN</td>\n",
       "    </tr>\n",
       "    <tr>\n",
       "      <th>2</th>\n",
       "      <td>both</td>\n",
       "      <td>23.0</td>\n",
       "      <td>30.0</td>\n",
       "      <td>NaN</td>\n",
       "      <td>NaN</td>\n",
       "      <td>NaN</td>\n",
       "    </tr>\n",
       "  </tbody>\n",
       "</table>\n",
       "</div>"
      ],
      "text/plain": [
       "     sex     d     e   C   D   E\n",
       "0    men  14.0  10.0 NaN NaN NaN\n",
       "1  women  11.0  30.0 NaN NaN NaN\n",
       "2   both  23.0  30.0 NaN NaN NaN"
      ]
     },
     "execution_count": 105,
     "metadata": {},
     "output_type": "execute_result"
    }
   ],
   "source": [
    "df"
   ]
  },
  {
   "cell_type": "markdown",
   "id": "73d6a1c7",
   "metadata": {},
   "source": [
    "# Assign\n",
    "\n",
    "Assign can be used to create a column while leaving the original DF untouched"
   ]
  },
  {
   "cell_type": "code",
   "execution_count": 107,
   "id": "38a2102e",
   "metadata": {},
   "outputs": [
    {
     "data": {
      "text/html": [
       "<div>\n",
       "<style scoped>\n",
       "    .dataframe tbody tr th:only-of-type {\n",
       "        vertical-align: middle;\n",
       "    }\n",
       "\n",
       "    .dataframe tbody tr th {\n",
       "        vertical-align: top;\n",
       "    }\n",
       "\n",
       "    .dataframe thead th {\n",
       "        text-align: right;\n",
       "    }\n",
       "</style>\n",
       "<table border=\"1\" class=\"dataframe\">\n",
       "  <thead>\n",
       "    <tr style=\"text-align: right;\">\n",
       "      <th></th>\n",
       "      <th>sex</th>\n",
       "      <th>d</th>\n",
       "      <th>e</th>\n",
       "      <th>C</th>\n",
       "      <th>D</th>\n",
       "      <th>E</th>\n",
       "      <th>div</th>\n",
       "    </tr>\n",
       "  </thead>\n",
       "  <tbody>\n",
       "    <tr>\n",
       "      <th>0</th>\n",
       "      <td>men</td>\n",
       "      <td>14.0</td>\n",
       "      <td>10.0</td>\n",
       "      <td>NaN</td>\n",
       "      <td>NaN</td>\n",
       "      <td>NaN</td>\n",
       "      <td>1.400000</td>\n",
       "    </tr>\n",
       "    <tr>\n",
       "      <th>1</th>\n",
       "      <td>women</td>\n",
       "      <td>11.0</td>\n",
       "      <td>30.0</td>\n",
       "      <td>NaN</td>\n",
       "      <td>NaN</td>\n",
       "      <td>NaN</td>\n",
       "      <td>0.366667</td>\n",
       "    </tr>\n",
       "    <tr>\n",
       "      <th>2</th>\n",
       "      <td>both</td>\n",
       "      <td>23.0</td>\n",
       "      <td>30.0</td>\n",
       "      <td>NaN</td>\n",
       "      <td>NaN</td>\n",
       "      <td>NaN</td>\n",
       "      <td>0.766667</td>\n",
       "    </tr>\n",
       "  </tbody>\n",
       "</table>\n",
       "</div>"
      ],
      "text/plain": [
       "     sex     d     e   C   D   E       div\n",
       "0    men  14.0  10.0 NaN NaN NaN  1.400000\n",
       "1  women  11.0  30.0 NaN NaN NaN  0.366667\n",
       "2   both  23.0  30.0 NaN NaN NaN  0.766667"
      ]
     },
     "execution_count": 107,
     "metadata": {},
     "output_type": "execute_result"
    }
   ],
   "source": [
    "df.assign(div=df['d'] / df['e'])"
   ]
  },
  {
   "cell_type": "code",
   "execution_count": 108,
   "id": "40770ad7",
   "metadata": {},
   "outputs": [
    {
     "data": {
      "text/html": [
       "<div>\n",
       "<style scoped>\n",
       "    .dataframe tbody tr th:only-of-type {\n",
       "        vertical-align: middle;\n",
       "    }\n",
       "\n",
       "    .dataframe tbody tr th {\n",
       "        vertical-align: top;\n",
       "    }\n",
       "\n",
       "    .dataframe thead th {\n",
       "        text-align: right;\n",
       "    }\n",
       "</style>\n",
       "<table border=\"1\" class=\"dataframe\">\n",
       "  <thead>\n",
       "    <tr style=\"text-align: right;\">\n",
       "      <th></th>\n",
       "      <th>sex</th>\n",
       "      <th>d</th>\n",
       "      <th>e</th>\n",
       "      <th>C</th>\n",
       "      <th>D</th>\n",
       "      <th>E</th>\n",
       "      <th>div</th>\n",
       "    </tr>\n",
       "  </thead>\n",
       "  <tbody>\n",
       "    <tr>\n",
       "      <th>0</th>\n",
       "      <td>men</td>\n",
       "      <td>14.0</td>\n",
       "      <td>10.0</td>\n",
       "      <td>NaN</td>\n",
       "      <td>NaN</td>\n",
       "      <td>NaN</td>\n",
       "      <td>1.400000</td>\n",
       "    </tr>\n",
       "    <tr>\n",
       "      <th>1</th>\n",
       "      <td>women</td>\n",
       "      <td>11.0</td>\n",
       "      <td>30.0</td>\n",
       "      <td>NaN</td>\n",
       "      <td>NaN</td>\n",
       "      <td>NaN</td>\n",
       "      <td>0.366667</td>\n",
       "    </tr>\n",
       "    <tr>\n",
       "      <th>2</th>\n",
       "      <td>both</td>\n",
       "      <td>23.0</td>\n",
       "      <td>30.0</td>\n",
       "      <td>NaN</td>\n",
       "      <td>NaN</td>\n",
       "      <td>NaN</td>\n",
       "      <td>0.766667</td>\n",
       "    </tr>\n",
       "  </tbody>\n",
       "</table>\n",
       "</div>"
      ],
      "text/plain": [
       "     sex     d     e   C   D   E       div\n",
       "0    men  14.0  10.0 NaN NaN NaN  1.400000\n",
       "1  women  11.0  30.0 NaN NaN NaN  0.366667\n",
       "2   both  23.0  30.0 NaN NaN NaN  0.766667"
      ]
     },
     "execution_count": 108,
     "metadata": {},
     "output_type": "execute_result"
    }
   ],
   "source": [
    "df.assign(div=lambda x: (x['d']/x['e']))"
   ]
  },
  {
   "cell_type": "markdown",
   "id": "9f17e07e",
   "metadata": {},
   "source": [
    "# Create a DataFrame with a nan values"
   ]
  },
  {
   "cell_type": "code",
   "execution_count": 139,
   "id": "e407da8b",
   "metadata": {},
   "outputs": [
    {
     "data": {
      "text/html": [
       "<div>\n",
       "<style scoped>\n",
       "    .dataframe tbody tr th:only-of-type {\n",
       "        vertical-align: middle;\n",
       "    }\n",
       "\n",
       "    .dataframe tbody tr th {\n",
       "        vertical-align: top;\n",
       "    }\n",
       "\n",
       "    .dataframe thead th {\n",
       "        text-align: right;\n",
       "    }\n",
       "</style>\n",
       "<table border=\"1\" class=\"dataframe\">\n",
       "  <thead>\n",
       "    <tr style=\"text-align: right;\">\n",
       "      <th></th>\n",
       "      <th>A</th>\n",
       "    </tr>\n",
       "  </thead>\n",
       "  <tbody>\n",
       "    <tr>\n",
       "      <th>0</th>\n",
       "      <td>8.0</td>\n",
       "    </tr>\n",
       "    <tr>\n",
       "      <th>1</th>\n",
       "      <td>9.0</td>\n",
       "    </tr>\n",
       "    <tr>\n",
       "      <th>2</th>\n",
       "      <td>2.0</td>\n",
       "    </tr>\n",
       "    <tr>\n",
       "      <th>3</th>\n",
       "      <td>4.0</td>\n",
       "    </tr>\n",
       "  </tbody>\n",
       "</table>\n",
       "</div>"
      ],
      "text/plain": [
       "     A\n",
       "0  8.0\n",
       "1  9.0\n",
       "2  2.0\n",
       "3  4.0"
      ]
     },
     "execution_count": 139,
     "metadata": {},
     "output_type": "execute_result"
    }
   ],
   "source": [
    "df = pd.DataFrame({'A': [1., np.nan, 3., np.nan]})\n",
    "df = pd.DataFrame({'A': [8., 9., 2., 4.]})\n",
    "df.combine_first(df)"
   ]
  },
  {
   "cell_type": "markdown",
   "id": "58d6b472",
   "metadata": {},
   "source": [
    "# Conditional Selection"
   ]
  },
  {
   "cell_type": "code",
   "execution_count": 142,
   "id": "c9fbe173",
   "metadata": {},
   "outputs": [
    {
     "data": {
      "text/html": [
       "<div>\n",
       "<style scoped>\n",
       "    .dataframe tbody tr th:only-of-type {\n",
       "        vertical-align: middle;\n",
       "    }\n",
       "\n",
       "    .dataframe tbody tr th {\n",
       "        vertical-align: top;\n",
       "    }\n",
       "\n",
       "    .dataframe thead th {\n",
       "        text-align: right;\n",
       "    }\n",
       "</style>\n",
       "<table border=\"1\" class=\"dataframe\">\n",
       "  <thead>\n",
       "    <tr style=\"text-align: right;\">\n",
       "      <th></th>\n",
       "      <th>C</th>\n",
       "      <th>D</th>\n",
       "      <th>E</th>\n",
       "    </tr>\n",
       "  </thead>\n",
       "  <tbody>\n",
       "    <tr>\n",
       "      <th>A</th>\n",
       "      <td>41</td>\n",
       "      <td>45</td>\n",
       "      <td>12</td>\n",
       "    </tr>\n",
       "    <tr>\n",
       "      <th>B</th>\n",
       "      <td>12</td>\n",
       "      <td>48</td>\n",
       "      <td>17</td>\n",
       "    </tr>\n",
       "  </tbody>\n",
       "</table>\n",
       "</div>"
      ],
      "text/plain": [
       "    C   D   E\n",
       "A  41  45  12\n",
       "B  12  48  17"
      ]
     },
     "execution_count": 142,
     "metadata": {},
     "output_type": "execute_result"
    }
   ],
   "source": [
    "arr_3=np.random.randint(10,50,size=(2,3))\n",
    "df=pd.DataFrame(arr_3,['A','B'],['C','D','E'])\n",
    "df"
   ]
  },
  {
   "cell_type": "code",
   "execution_count": 143,
   "id": "2a4ccea0",
   "metadata": {},
   "outputs": [
    {
     "data": {
      "text/html": [
       "<div>\n",
       "<style scoped>\n",
       "    .dataframe tbody tr th:only-of-type {\n",
       "        vertical-align: middle;\n",
       "    }\n",
       "\n",
       "    .dataframe tbody tr th {\n",
       "        vertical-align: top;\n",
       "    }\n",
       "\n",
       "    .dataframe thead th {\n",
       "        text-align: right;\n",
       "    }\n",
       "</style>\n",
       "<table border=\"1\" class=\"dataframe\">\n",
       "  <thead>\n",
       "    <tr style=\"text-align: right;\">\n",
       "      <th></th>\n",
       "      <th>C</th>\n",
       "      <th>D</th>\n",
       "      <th>E</th>\n",
       "    </tr>\n",
       "  </thead>\n",
       "  <tbody>\n",
       "    <tr>\n",
       "      <th>A</th>\n",
       "      <td>True</td>\n",
       "      <td>True</td>\n",
       "      <td>False</td>\n",
       "    </tr>\n",
       "    <tr>\n",
       "      <th>B</th>\n",
       "      <td>False</td>\n",
       "      <td>True</td>\n",
       "      <td>False</td>\n",
       "    </tr>\n",
       "  </tbody>\n",
       "</table>\n",
       "</div>"
      ],
      "text/plain": [
       "       C     D      E\n",
       "A   True  True  False\n",
       "B  False  True  False"
      ]
     },
     "execution_count": 143,
     "metadata": {},
     "output_type": "execute_result"
    }
   ],
   "source": [
    "#Greater than 40\n",
    "df>40"
   ]
  },
  {
   "cell_type": "code",
   "execution_count": 148,
   "id": "34fc4c60",
   "metadata": {},
   "outputs": [
    {
     "name": "stdout",
     "output_type": "stream",
     "text": [
      "      C   D   E\n",
      "A  41.0  45 NaN\n",
      "B   NaN  48 NaN\n"
     ]
    }
   ],
   "source": [
    "print(df[df>40])"
   ]
  },
  {
   "cell_type": "code",
   "execution_count": 153,
   "id": "30c63eea",
   "metadata": {},
   "outputs": [
    {
     "name": "stdout",
     "output_type": "stream",
     "text": [
      "      C   D   E\n",
      "A  41.0  45 NaN\n",
      "B   NaN  48 NaN\n"
     ]
    }
   ],
   "source": [
    "print(df[df.gt(40)])"
   ]
  },
  {
   "cell_type": "markdown",
   "id": "9fb29b1a",
   "metadata": {},
   "source": [
    "# we can use comparison operater functions as well like: \n",
    "# gt, lt, ge, le, eq, ne"
   ]
  },
  {
   "cell_type": "code",
   "execution_count": 155,
   "id": "ec63d0d3",
   "metadata": {},
   "outputs": [
    {
     "name": "stdout",
     "output_type": "stream",
     "text": [
      "      C   D   E\n",
      "A   NaN NaN  12\n",
      "B  12.0 NaN  17\n"
     ]
    }
   ],
   "source": [
    "print(df[df.lt(40)])"
   ]
  },
  {
   "cell_type": "markdown",
   "id": "1eb741a2",
   "metadata": {},
   "source": [
    "# Using Bools"
   ]
  },
  {
   "cell_type": "code",
   "execution_count": 156,
   "id": "09954a7c",
   "metadata": {},
   "outputs": [],
   "source": [
    "bool_1=df>45"
   ]
  },
  {
   "cell_type": "code",
   "execution_count": 157,
   "id": "52504a69",
   "metadata": {},
   "outputs": [
    {
     "data": {
      "text/html": [
       "<div>\n",
       "<style scoped>\n",
       "    .dataframe tbody tr th:only-of-type {\n",
       "        vertical-align: middle;\n",
       "    }\n",
       "\n",
       "    .dataframe tbody tr th {\n",
       "        vertical-align: top;\n",
       "    }\n",
       "\n",
       "    .dataframe thead th {\n",
       "        text-align: right;\n",
       "    }\n",
       "</style>\n",
       "<table border=\"1\" class=\"dataframe\">\n",
       "  <thead>\n",
       "    <tr style=\"text-align: right;\">\n",
       "      <th></th>\n",
       "      <th>C</th>\n",
       "      <th>D</th>\n",
       "      <th>E</th>\n",
       "    </tr>\n",
       "  </thead>\n",
       "  <tbody>\n",
       "    <tr>\n",
       "      <th>A</th>\n",
       "      <td>NaN</td>\n",
       "      <td>NaN</td>\n",
       "      <td>NaN</td>\n",
       "    </tr>\n",
       "    <tr>\n",
       "      <th>B</th>\n",
       "      <td>NaN</td>\n",
       "      <td>48.0</td>\n",
       "      <td>NaN</td>\n",
       "    </tr>\n",
       "  </tbody>\n",
       "</table>\n",
       "</div>"
      ],
      "text/plain": [
       "    C     D   E\n",
       "A NaN   NaN NaN\n",
       "B NaN  48.0 NaN"
      ]
     },
     "execution_count": 157,
     "metadata": {},
     "output_type": "execute_result"
    }
   ],
   "source": [
    "df[bool_1]"
   ]
  },
  {
   "cell_type": "code",
   "execution_count": 158,
   "id": "d49045d4",
   "metadata": {},
   "outputs": [
    {
     "data": {
      "text/plain": [
       "A    False\n",
       "B    False\n",
       "Name: E, dtype: bool"
      ]
     },
     "execution_count": 158,
     "metadata": {},
     "output_type": "execute_result"
    }
   ],
   "source": [
    "df['E']>45#for column"
   ]
  },
  {
   "cell_type": "code",
   "execution_count": 162,
   "id": "8fea62a3",
   "metadata": {},
   "outputs": [
    {
     "data": {
      "text/html": [
       "<div>\n",
       "<style scoped>\n",
       "    .dataframe tbody tr th:only-of-type {\n",
       "        vertical-align: middle;\n",
       "    }\n",
       "\n",
       "    .dataframe tbody tr th {\n",
       "        vertical-align: top;\n",
       "    }\n",
       "\n",
       "    .dataframe thead th {\n",
       "        text-align: right;\n",
       "    }\n",
       "</style>\n",
       "<table border=\"1\" class=\"dataframe\">\n",
       "  <thead>\n",
       "    <tr style=\"text-align: right;\">\n",
       "      <th></th>\n",
       "      <th>C</th>\n",
       "      <th>D</th>\n",
       "      <th>E</th>\n",
       "    </tr>\n",
       "  </thead>\n",
       "  <tbody>\n",
       "    <tr>\n",
       "      <th>B</th>\n",
       "      <td>12</td>\n",
       "      <td>48</td>\n",
       "      <td>17</td>\n",
       "    </tr>\n",
       "  </tbody>\n",
       "</table>\n",
       "</div>"
      ],
      "text/plain": [
       "    C   D   E\n",
       "B  12  48  17"
      ]
     },
     "execution_count": 162,
     "metadata": {},
     "output_type": "execute_result"
    }
   ],
   "source": [
    "df[df['D']>45]#return a column if bool is matched with condition"
   ]
  },
  {
   "cell_type": "code",
   "execution_count": 166,
   "id": "607aa15d",
   "metadata": {},
   "outputs": [
    {
     "data": {
      "text/plain": [
       "A    41\n",
       "B    12\n",
       "Name: C, dtype: int64"
      ]
     },
     "execution_count": 166,
     "metadata": {},
     "output_type": "execute_result"
    }
   ],
   "source": [
    "df_1=df[df['E']>10]#focus on a column based on resulting dataframe\n",
    "df_1['C']"
   ]
  },
  {
   "cell_type": "code",
   "execution_count": 168,
   "id": "3e6bc56c",
   "metadata": {},
   "outputs": [
    {
     "name": "stdout",
     "output_type": "stream",
     "text": [
      "B    12\n",
      "Name: C, dtype: int64\n"
     ]
    }
   ],
   "source": [
    "print(df[df['E']>12]['C'])"
   ]
  },
  {
   "cell_type": "code",
   "execution_count": 170,
   "id": "0f76f73b",
   "metadata": {},
   "outputs": [
    {
     "name": "stdout",
     "output_type": "stream",
     "text": [
      "    C   D\n",
      "A  41  45\n",
      "B  12  48\n",
      "\n"
     ]
    }
   ],
   "source": [
    "# You can also grab multiple columns\n",
    "print(df_1[df_1['E']>10][['C', 'D']])\n",
    "print()\n"
   ]
  },
  {
   "cell_type": "code",
   "execution_count": 171,
   "id": "ce1cd91a",
   "metadata": {},
   "outputs": [
    {
     "name": "stdout",
     "output_type": "stream",
     "text": [
      "   X  Y  Z\n",
      "A  1  2  3\n",
      "B  4  5  6\n",
      "C  7  8  9 \n",
      "\n"
     ]
    },
    {
     "data": {
      "text/html": [
       "<div>\n",
       "<style scoped>\n",
       "    .dataframe tbody tr th:only-of-type {\n",
       "        vertical-align: middle;\n",
       "    }\n",
       "\n",
       "    .dataframe tbody tr th {\n",
       "        vertical-align: top;\n",
       "    }\n",
       "\n",
       "    .dataframe thead th {\n",
       "        text-align: right;\n",
       "    }\n",
       "</style>\n",
       "<table border=\"1\" class=\"dataframe\">\n",
       "  <thead>\n",
       "    <tr style=\"text-align: right;\">\n",
       "      <th></th>\n",
       "      <th>X</th>\n",
       "      <th>Y</th>\n",
       "      <th>Z</th>\n",
       "    </tr>\n",
       "  </thead>\n",
       "  <tbody>\n",
       "    <tr>\n",
       "      <th>B</th>\n",
       "      <td>4</td>\n",
       "      <td>5</td>\n",
       "      <td>6</td>\n",
       "    </tr>\n",
       "  </tbody>\n",
       "</table>\n",
       "</div>"
      ],
      "text/plain": [
       "   X  Y  Z\n",
       "B  4  5  6"
      ]
     },
     "execution_count": 171,
     "metadata": {},
     "output_type": "execute_result"
    }
   ],
   "source": [
    "# You can use multiple conditions\n",
    "arr_3 = np.array([[1, 2, 3], [4, 5, 6], [7, 8, 9]])\n",
    "df_2 = pd.DataFrame(arr_3, ['A', 'B', 'C'], ['X', 'Y', 'Z'])\n",
    "print(df_2, \"\\n\")\n",
    "# You can use or '|' and '&' condition to combine conditions as well\n",
    "df_2[(df_2['X']>3) & (df_2['X']<7)]"
   ]
  },
  {
   "cell_type": "markdown",
   "id": "fc8b8bfc",
   "metadata": {},
   "source": [
    "# File Input and Output"
   ]
  },
  {
   "cell_type": "markdown",
   "id": "793720b1",
   "metadata": {},
   "source": [
    "Pandas can work with the following types of data : CSV, Plain Text, JSON, XML, PDF, SQL, HTML, XLSX, DOCX, ZIP, Images Hierarchical Data Format, MP3, and MP4."
   ]
  },
  {
   "cell_type": "code",
   "execution_count": 173,
   "id": "9e7f3097",
   "metadata": {},
   "outputs": [
    {
     "name": "stdout",
     "output_type": "stream",
     "text": [
      "Collecting pymysql\n",
      "  Downloading PyMySQL-1.0.2-py3-none-any.whl (43 kB)\n",
      "\u001b[K     |████████████████████████████████| 43 kB 1.8 MB/s eta 0:00:011\n",
      "\u001b[?25hInstalling collected packages: pymysql\n",
      "Successfully installed pymysql-1.0.2\n"
     ]
    }
   ],
   "source": [
    "# !pip install pymysql"
   ]
  },
  {
   "cell_type": "code",
   "execution_count": 174,
   "id": "dba784a0",
   "metadata": {},
   "outputs": [],
   "source": [
    "import pymysql"
   ]
  },
  {
   "cell_type": "markdown",
   "id": "44e597f1",
   "metadata": {},
   "source": [
    "## Read CSV"
   ]
  },
  {
   "cell_type": "code",
   "execution_count": 175,
   "id": "51b29170",
   "metadata": {},
   "outputs": [],
   "source": [
    "cs_df=pd.read_csv('ComputerSales.csv')"
   ]
  },
  {
   "cell_type": "code",
   "execution_count": 176,
   "id": "fbbed9fe",
   "metadata": {},
   "outputs": [],
   "source": [
    "cs_df.to_csv('ComputerSalesBU.csv',index=False) ## Save a CSV file, but don't save the index as a column"
   ]
  },
  {
   "cell_type": "markdown",
   "id": "fa21d432",
   "metadata": {},
   "source": [
    "# Read Excel and save excel"
   ]
  },
  {
   "cell_type": "code",
   "execution_count": 177,
   "id": "9120f487",
   "metadata": {},
   "outputs": [],
   "source": [
    "# You can read data from Excel, but not formulas and macros\n",
    "pd.read_excel('Financial Sample.xlsx',0)\n",
    "\n",
    "# Write to Excel\n",
    "cs_df.to_excel('ComputerSales.xlsx')"
   ]
  },
  {
   "cell_type": "code",
   "execution_count": 180,
   "id": "a3b44e82",
   "metadata": {},
   "outputs": [
    {
     "data": {
      "text/html": [
       "<div>\n",
       "<style scoped>\n",
       "    .dataframe tbody tr th:only-of-type {\n",
       "        vertical-align: middle;\n",
       "    }\n",
       "\n",
       "    .dataframe tbody tr th {\n",
       "        vertical-align: top;\n",
       "    }\n",
       "\n",
       "    .dataframe thead th {\n",
       "        text-align: right;\n",
       "    }\n",
       "</style>\n",
       "<table border=\"1\" class=\"dataframe\">\n",
       "  <thead>\n",
       "    <tr style=\"text-align: right;\">\n",
       "      <th></th>\n",
       "      <th>Unnamed: 0</th>\n",
       "      <th>Sale ID</th>\n",
       "      <th>Contact</th>\n",
       "      <th>Sex</th>\n",
       "      <th>Age</th>\n",
       "      <th>State</th>\n",
       "      <th>Product ID</th>\n",
       "      <th>Product Type</th>\n",
       "      <th>Sale Price</th>\n",
       "      <th>Profit</th>\n",
       "      <th>Lead</th>\n",
       "      <th>Month</th>\n",
       "      <th>Year</th>\n",
       "    </tr>\n",
       "  </thead>\n",
       "  <tbody>\n",
       "    <tr>\n",
       "      <th>0</th>\n",
       "      <td>0</td>\n",
       "      <td>1</td>\n",
       "      <td>Paul Thomas</td>\n",
       "      <td>M</td>\n",
       "      <td>43</td>\n",
       "      <td>OH</td>\n",
       "      <td>M01-F0024</td>\n",
       "      <td>Desktop</td>\n",
       "      <td>479.99</td>\n",
       "      <td>143.39</td>\n",
       "      <td>Website</td>\n",
       "      <td>January</td>\n",
       "      <td>2018</td>\n",
       "    </tr>\n",
       "    <tr>\n",
       "      <th>1</th>\n",
       "      <td>1</td>\n",
       "      <td>2</td>\n",
       "      <td>Margo Simms</td>\n",
       "      <td>F</td>\n",
       "      <td>37</td>\n",
       "      <td>WV</td>\n",
       "      <td>GT13-0024</td>\n",
       "      <td>Desktop</td>\n",
       "      <td>1249.99</td>\n",
       "      <td>230.89</td>\n",
       "      <td>Flyer 4</td>\n",
       "      <td>January</td>\n",
       "      <td>2018</td>\n",
       "    </tr>\n",
       "    <tr>\n",
       "      <th>2</th>\n",
       "      <td>2</td>\n",
       "      <td>3</td>\n",
       "      <td>Sam Stine</td>\n",
       "      <td>M</td>\n",
       "      <td>26</td>\n",
       "      <td>PA</td>\n",
       "      <td>I3670</td>\n",
       "      <td>Desktop</td>\n",
       "      <td>649.99</td>\n",
       "      <td>118.64</td>\n",
       "      <td>Website</td>\n",
       "      <td>February</td>\n",
       "      <td>2018</td>\n",
       "    </tr>\n",
       "    <tr>\n",
       "      <th>3</th>\n",
       "      <td>3</td>\n",
       "      <td>4</td>\n",
       "      <td>Moe Eggert</td>\n",
       "      <td>M</td>\n",
       "      <td>35</td>\n",
       "      <td>PA</td>\n",
       "      <td>I3593</td>\n",
       "      <td>Laptop</td>\n",
       "      <td>399.99</td>\n",
       "      <td>72.09</td>\n",
       "      <td>Website</td>\n",
       "      <td>March</td>\n",
       "      <td>2018</td>\n",
       "    </tr>\n",
       "    <tr>\n",
       "      <th>4</th>\n",
       "      <td>4</td>\n",
       "      <td>5</td>\n",
       "      <td>Jessica Elk</td>\n",
       "      <td>F</td>\n",
       "      <td>55</td>\n",
       "      <td>PA</td>\n",
       "      <td>15M-ED</td>\n",
       "      <td>Laptop</td>\n",
       "      <td>699.99</td>\n",
       "      <td>98.09</td>\n",
       "      <td>Flyer 4</td>\n",
       "      <td>March</td>\n",
       "      <td>2018</td>\n",
       "    </tr>\n",
       "    <tr>\n",
       "      <th>5</th>\n",
       "      <td>5</td>\n",
       "      <td>6</td>\n",
       "      <td>Sally Struthers</td>\n",
       "      <td>F</td>\n",
       "      <td>45</td>\n",
       "      <td>PA</td>\n",
       "      <td>GT13-0024</td>\n",
       "      <td>Desktop</td>\n",
       "      <td>1249.99</td>\n",
       "      <td>230.89</td>\n",
       "      <td>Flyer 2</td>\n",
       "      <td>April</td>\n",
       "      <td>2018</td>\n",
       "    </tr>\n",
       "    <tr>\n",
       "      <th>6</th>\n",
       "      <td>6</td>\n",
       "      <td>7</td>\n",
       "      <td>Michelle Samms</td>\n",
       "      <td>F</td>\n",
       "      <td>46</td>\n",
       "      <td>OH</td>\n",
       "      <td>GA401IV</td>\n",
       "      <td>Laptop</td>\n",
       "      <td>1349.99</td>\n",
       "      <td>180.34</td>\n",
       "      <td>Email</td>\n",
       "      <td>May</td>\n",
       "      <td>2018</td>\n",
       "    </tr>\n",
       "    <tr>\n",
       "      <th>7</th>\n",
       "      <td>7</td>\n",
       "      <td>8</td>\n",
       "      <td>Mick Roberts</td>\n",
       "      <td>M</td>\n",
       "      <td>23</td>\n",
       "      <td>OH</td>\n",
       "      <td>MY2J2LL</td>\n",
       "      <td>Tablet</td>\n",
       "      <td>999.99</td>\n",
       "      <td>146.69</td>\n",
       "      <td>Website</td>\n",
       "      <td>July</td>\n",
       "      <td>2018</td>\n",
       "    </tr>\n",
       "    <tr>\n",
       "      <th>8</th>\n",
       "      <td>8</td>\n",
       "      <td>9</td>\n",
       "      <td>Ed Klondike</td>\n",
       "      <td>M</td>\n",
       "      <td>52</td>\n",
       "      <td>OH</td>\n",
       "      <td>81TC00</td>\n",
       "      <td>Laptop</td>\n",
       "      <td>649.99</td>\n",
       "      <td>122.34</td>\n",
       "      <td>Email</td>\n",
       "      <td>July</td>\n",
       "      <td>2018</td>\n",
       "    </tr>\n",
       "    <tr>\n",
       "      <th>9</th>\n",
       "      <td>9</td>\n",
       "      <td>10</td>\n",
       "      <td>Phil Jones</td>\n",
       "      <td>M</td>\n",
       "      <td>56</td>\n",
       "      <td>WV</td>\n",
       "      <td>M01-F0024</td>\n",
       "      <td>Desktop</td>\n",
       "      <td>479.99</td>\n",
       "      <td>143.39</td>\n",
       "      <td>Flyer 2</td>\n",
       "      <td>August</td>\n",
       "      <td>2018</td>\n",
       "    </tr>\n",
       "    <tr>\n",
       "      <th>10</th>\n",
       "      <td>10</td>\n",
       "      <td>11</td>\n",
       "      <td>Rick James</td>\n",
       "      <td>M</td>\n",
       "      <td>49</td>\n",
       "      <td>PA</td>\n",
       "      <td>GA401IV</td>\n",
       "      <td>Laptop</td>\n",
       "      <td>1349.99</td>\n",
       "      <td>180.34</td>\n",
       "      <td>Flyer 3</td>\n",
       "      <td>November</td>\n",
       "      <td>2018</td>\n",
       "    </tr>\n",
       "    <tr>\n",
       "      <th>11</th>\n",
       "      <td>11</td>\n",
       "      <td>12</td>\n",
       "      <td>Sue Etna</td>\n",
       "      <td>F</td>\n",
       "      <td>54</td>\n",
       "      <td>OH</td>\n",
       "      <td>GT13-0024</td>\n",
       "      <td>Desktop</td>\n",
       "      <td>1249.99</td>\n",
       "      <td>230.89</td>\n",
       "      <td>Flyer 2</td>\n",
       "      <td>November</td>\n",
       "      <td>2018</td>\n",
       "    </tr>\n",
       "    <tr>\n",
       "      <th>12</th>\n",
       "      <td>12</td>\n",
       "      <td>13</td>\n",
       "      <td>Jason Case</td>\n",
       "      <td>M</td>\n",
       "      <td>57</td>\n",
       "      <td>PA</td>\n",
       "      <td>81TC00</td>\n",
       "      <td>Laptop</td>\n",
       "      <td>649.99</td>\n",
       "      <td>122.34</td>\n",
       "      <td>Email</td>\n",
       "      <td>November</td>\n",
       "      <td>2018</td>\n",
       "    </tr>\n",
       "    <tr>\n",
       "      <th>13</th>\n",
       "      <td>13</td>\n",
       "      <td>14</td>\n",
       "      <td>Doug Johnson</td>\n",
       "      <td>M</td>\n",
       "      <td>51</td>\n",
       "      <td>PA</td>\n",
       "      <td>I3670</td>\n",
       "      <td>Desktop</td>\n",
       "      <td>649.99</td>\n",
       "      <td>118.64</td>\n",
       "      <td>Website</td>\n",
       "      <td>December</td>\n",
       "      <td>2018</td>\n",
       "    </tr>\n",
       "    <tr>\n",
       "      <th>14</th>\n",
       "      <td>14</td>\n",
       "      <td>15</td>\n",
       "      <td>Andy Sands</td>\n",
       "      <td>M</td>\n",
       "      <td>56</td>\n",
       "      <td>OH</td>\n",
       "      <td>MY2J2LL</td>\n",
       "      <td>Tablet</td>\n",
       "      <td>999.99</td>\n",
       "      <td>146.69</td>\n",
       "      <td>Flyer 1</td>\n",
       "      <td>December</td>\n",
       "      <td>2018</td>\n",
       "    </tr>\n",
       "    <tr>\n",
       "      <th>15</th>\n",
       "      <td>15</td>\n",
       "      <td>16</td>\n",
       "      <td>Kim Collins</td>\n",
       "      <td>F</td>\n",
       "      <td>49</td>\n",
       "      <td>PA</td>\n",
       "      <td>I3593</td>\n",
       "      <td>Laptop</td>\n",
       "      <td>399.99</td>\n",
       "      <td>72.09</td>\n",
       "      <td>Flyer 2</td>\n",
       "      <td>January</td>\n",
       "      <td>2019</td>\n",
       "    </tr>\n",
       "    <tr>\n",
       "      <th>16</th>\n",
       "      <td>16</td>\n",
       "      <td>17</td>\n",
       "      <td>Edna Sanders</td>\n",
       "      <td>F</td>\n",
       "      <td>46</td>\n",
       "      <td>OH</td>\n",
       "      <td>15M-ED</td>\n",
       "      <td>Laptop</td>\n",
       "      <td>699.99</td>\n",
       "      <td>98.09</td>\n",
       "      <td>Email</td>\n",
       "      <td>February</td>\n",
       "      <td>2019</td>\n",
       "    </tr>\n",
       "    <tr>\n",
       "      <th>17</th>\n",
       "      <td>17</td>\n",
       "      <td>18</td>\n",
       "      <td>Michelle Samms</td>\n",
       "      <td>F</td>\n",
       "      <td>46</td>\n",
       "      <td>NY</td>\n",
       "      <td>MY2J2LL</td>\n",
       "      <td>Tablet</td>\n",
       "      <td>999.99</td>\n",
       "      <td>146.69</td>\n",
       "      <td>Website</td>\n",
       "      <td>March</td>\n",
       "      <td>2019</td>\n",
       "    </tr>\n",
       "    <tr>\n",
       "      <th>18</th>\n",
       "      <td>18</td>\n",
       "      <td>19</td>\n",
       "      <td>Mick Roberts</td>\n",
       "      <td>M</td>\n",
       "      <td>23</td>\n",
       "      <td>PA</td>\n",
       "      <td>I3593</td>\n",
       "      <td>Laptop</td>\n",
       "      <td>399.99</td>\n",
       "      <td>72.09</td>\n",
       "      <td>Flyer 4</td>\n",
       "      <td>March</td>\n",
       "      <td>2019</td>\n",
       "    </tr>\n",
       "    <tr>\n",
       "      <th>19</th>\n",
       "      <td>19</td>\n",
       "      <td>20</td>\n",
       "      <td>Sally Struthers</td>\n",
       "      <td>F</td>\n",
       "      <td>45</td>\n",
       "      <td>NY</td>\n",
       "      <td>81TC00</td>\n",
       "      <td>Laptop</td>\n",
       "      <td>649.99</td>\n",
       "      <td>122.34</td>\n",
       "      <td>Website</td>\n",
       "      <td>April</td>\n",
       "      <td>2019</td>\n",
       "    </tr>\n",
       "    <tr>\n",
       "      <th>20</th>\n",
       "      <td>20</td>\n",
       "      <td>21</td>\n",
       "      <td>Jason Case</td>\n",
       "      <td>M</td>\n",
       "      <td>57</td>\n",
       "      <td>PA</td>\n",
       "      <td>M01-F0024</td>\n",
       "      <td>Desktop</td>\n",
       "      <td>479.99</td>\n",
       "      <td>143.39</td>\n",
       "      <td>Flyer 4</td>\n",
       "      <td>May</td>\n",
       "      <td>2019</td>\n",
       "    </tr>\n",
       "    <tr>\n",
       "      <th>21</th>\n",
       "      <td>21</td>\n",
       "      <td>22</td>\n",
       "      <td>Doug Johnson</td>\n",
       "      <td>M</td>\n",
       "      <td>51</td>\n",
       "      <td>PA</td>\n",
       "      <td>GA401IV</td>\n",
       "      <td>Laptop</td>\n",
       "      <td>1349.99</td>\n",
       "      <td>180.34</td>\n",
       "      <td>Website</td>\n",
       "      <td>August</td>\n",
       "      <td>2019</td>\n",
       "    </tr>\n",
       "    <tr>\n",
       "      <th>22</th>\n",
       "      <td>22</td>\n",
       "      <td>23</td>\n",
       "      <td>Paul Thomas</td>\n",
       "      <td>M</td>\n",
       "      <td>43</td>\n",
       "      <td>OH</td>\n",
       "      <td>81TC00</td>\n",
       "      <td>Laptop</td>\n",
       "      <td>649.99</td>\n",
       "      <td>122.34</td>\n",
       "      <td>Website</td>\n",
       "      <td>August</td>\n",
       "      <td>2019</td>\n",
       "    </tr>\n",
       "    <tr>\n",
       "      <th>23</th>\n",
       "      <td>23</td>\n",
       "      <td>24</td>\n",
       "      <td>Margo Simms</td>\n",
       "      <td>F</td>\n",
       "      <td>37</td>\n",
       "      <td>WV</td>\n",
       "      <td>Q526FA</td>\n",
       "      <td>Laptop</td>\n",
       "      <td>1049.99</td>\n",
       "      <td>143.09</td>\n",
       "      <td>Flyer 4</td>\n",
       "      <td>November</td>\n",
       "      <td>2019</td>\n",
       "    </tr>\n",
       "    <tr>\n",
       "      <th>24</th>\n",
       "      <td>24</td>\n",
       "      <td>25</td>\n",
       "      <td>Michelle Samms</td>\n",
       "      <td>F</td>\n",
       "      <td>46</td>\n",
       "      <td>NY</td>\n",
       "      <td>I3670</td>\n",
       "      <td>Desktop</td>\n",
       "      <td>649.99</td>\n",
       "      <td>118.64</td>\n",
       "      <td>Flyer 2</td>\n",
       "      <td>November</td>\n",
       "      <td>2019</td>\n",
       "    </tr>\n",
       "    <tr>\n",
       "      <th>25</th>\n",
       "      <td>25</td>\n",
       "      <td>26</td>\n",
       "      <td>Mick Roberts</td>\n",
       "      <td>M</td>\n",
       "      <td>23</td>\n",
       "      <td>PA</td>\n",
       "      <td>Q526FA</td>\n",
       "      <td>Laptop</td>\n",
       "      <td>1049.99</td>\n",
       "      <td>143.09</td>\n",
       "      <td>Email</td>\n",
       "      <td>November</td>\n",
       "      <td>2019</td>\n",
       "    </tr>\n",
       "    <tr>\n",
       "      <th>26</th>\n",
       "      <td>26</td>\n",
       "      <td>27</td>\n",
       "      <td>Ed Klondike</td>\n",
       "      <td>M</td>\n",
       "      <td>52</td>\n",
       "      <td>OH</td>\n",
       "      <td>Q526FA</td>\n",
       "      <td>Laptop</td>\n",
       "      <td>1049.99</td>\n",
       "      <td>143.09</td>\n",
       "      <td>Website</td>\n",
       "      <td>December</td>\n",
       "      <td>2019</td>\n",
       "    </tr>\n",
       "    <tr>\n",
       "      <th>27</th>\n",
       "      <td>27</td>\n",
       "      <td>28</td>\n",
       "      <td>Moe Eggert</td>\n",
       "      <td>M</td>\n",
       "      <td>35</td>\n",
       "      <td>PA</td>\n",
       "      <td>15M-ED</td>\n",
       "      <td>Laptop</td>\n",
       "      <td>699.99</td>\n",
       "      <td>98.09</td>\n",
       "      <td>Email</td>\n",
       "      <td>December</td>\n",
       "      <td>2019</td>\n",
       "    </tr>\n",
       "    <tr>\n",
       "      <th>28</th>\n",
       "      <td>28</td>\n",
       "      <td>29</td>\n",
       "      <td>Jessica Elk</td>\n",
       "      <td>F</td>\n",
       "      <td>55</td>\n",
       "      <td>PA</td>\n",
       "      <td>GA401IV</td>\n",
       "      <td>Laptop</td>\n",
       "      <td>1349.99</td>\n",
       "      <td>180.34</td>\n",
       "      <td>Flyer 2</td>\n",
       "      <td>December</td>\n",
       "      <td>2019</td>\n",
       "    </tr>\n",
       "    <tr>\n",
       "      <th>29</th>\n",
       "      <td>29</td>\n",
       "      <td>30</td>\n",
       "      <td>Phil Jones</td>\n",
       "      <td>M</td>\n",
       "      <td>56</td>\n",
       "      <td>WV</td>\n",
       "      <td>M01-F0024</td>\n",
       "      <td>Desktop</td>\n",
       "      <td>479.99</td>\n",
       "      <td>143.39</td>\n",
       "      <td>Flyer 2</td>\n",
       "      <td>January</td>\n",
       "      <td>2020</td>\n",
       "    </tr>\n",
       "    <tr>\n",
       "      <th>30</th>\n",
       "      <td>30</td>\n",
       "      <td>31</td>\n",
       "      <td>Rick James</td>\n",
       "      <td>M</td>\n",
       "      <td>49</td>\n",
       "      <td>PA</td>\n",
       "      <td>GA401IV</td>\n",
       "      <td>Laptop</td>\n",
       "      <td>1349.99</td>\n",
       "      <td>180.34</td>\n",
       "      <td>Flyer 1</td>\n",
       "      <td>January</td>\n",
       "      <td>2020</td>\n",
       "    </tr>\n",
       "    <tr>\n",
       "      <th>31</th>\n",
       "      <td>31</td>\n",
       "      <td>32</td>\n",
       "      <td>Sue Etna</td>\n",
       "      <td>F</td>\n",
       "      <td>54</td>\n",
       "      <td>OH</td>\n",
       "      <td>GT13-0024</td>\n",
       "      <td>Desktop</td>\n",
       "      <td>1249.99</td>\n",
       "      <td>230.89</td>\n",
       "      <td>Flyer 2</td>\n",
       "      <td>February</td>\n",
       "      <td>2020</td>\n",
       "    </tr>\n",
       "    <tr>\n",
       "      <th>32</th>\n",
       "      <td>32</td>\n",
       "      <td>33</td>\n",
       "      <td>Kim Collins</td>\n",
       "      <td>F</td>\n",
       "      <td>49</td>\n",
       "      <td>PA</td>\n",
       "      <td>I3593</td>\n",
       "      <td>Laptop</td>\n",
       "      <td>399.99</td>\n",
       "      <td>72.09</td>\n",
       "      <td>Flyer 2</td>\n",
       "      <td>March</td>\n",
       "      <td>2020</td>\n",
       "    </tr>\n",
       "    <tr>\n",
       "      <th>33</th>\n",
       "      <td>33</td>\n",
       "      <td>34</td>\n",
       "      <td>Edna Sanders</td>\n",
       "      <td>F</td>\n",
       "      <td>46</td>\n",
       "      <td>OH</td>\n",
       "      <td>15M-ED</td>\n",
       "      <td>Laptop</td>\n",
       "      <td>699.99</td>\n",
       "      <td>98.09</td>\n",
       "      <td>Email</td>\n",
       "      <td>March</td>\n",
       "      <td>2020</td>\n",
       "    </tr>\n",
       "    <tr>\n",
       "      <th>34</th>\n",
       "      <td>34</td>\n",
       "      <td>35</td>\n",
       "      <td>Michelle Samms</td>\n",
       "      <td>F</td>\n",
       "      <td>46</td>\n",
       "      <td>NY</td>\n",
       "      <td>MY2J2LL</td>\n",
       "      <td>Tablet</td>\n",
       "      <td>999.99</td>\n",
       "      <td>146.69</td>\n",
       "      <td>Website</td>\n",
       "      <td>April</td>\n",
       "      <td>2020</td>\n",
       "    </tr>\n",
       "    <tr>\n",
       "      <th>35</th>\n",
       "      <td>35</td>\n",
       "      <td>36</td>\n",
       "      <td>Sally Struthers</td>\n",
       "      <td>F</td>\n",
       "      <td>45</td>\n",
       "      <td>NY</td>\n",
       "      <td>81TC00</td>\n",
       "      <td>Laptop</td>\n",
       "      <td>649.99</td>\n",
       "      <td>122.34</td>\n",
       "      <td>Website</td>\n",
       "      <td>April</td>\n",
       "      <td>2020</td>\n",
       "    </tr>\n",
       "    <tr>\n",
       "      <th>36</th>\n",
       "      <td>36</td>\n",
       "      <td>37</td>\n",
       "      <td>Jason Case</td>\n",
       "      <td>M</td>\n",
       "      <td>57</td>\n",
       "      <td>PA</td>\n",
       "      <td>M01-F0024</td>\n",
       "      <td>Desktop</td>\n",
       "      <td>479.99</td>\n",
       "      <td>143.39</td>\n",
       "      <td>Flyer 4</td>\n",
       "      <td>April</td>\n",
       "      <td>2020</td>\n",
       "    </tr>\n",
       "    <tr>\n",
       "      <th>37</th>\n",
       "      <td>37</td>\n",
       "      <td>38</td>\n",
       "      <td>Doug Johnson</td>\n",
       "      <td>M</td>\n",
       "      <td>51</td>\n",
       "      <td>PA</td>\n",
       "      <td>GA401IV</td>\n",
       "      <td>Laptop</td>\n",
       "      <td>1349.99</td>\n",
       "      <td>180.34</td>\n",
       "      <td>Website</td>\n",
       "      <td>May</td>\n",
       "      <td>2020</td>\n",
       "    </tr>\n",
       "    <tr>\n",
       "      <th>38</th>\n",
       "      <td>38</td>\n",
       "      <td>39</td>\n",
       "      <td>Moe Eggert</td>\n",
       "      <td>M</td>\n",
       "      <td>35</td>\n",
       "      <td>PA</td>\n",
       "      <td>I3593</td>\n",
       "      <td>Laptop</td>\n",
       "      <td>399.99</td>\n",
       "      <td>72.09</td>\n",
       "      <td>Website</td>\n",
       "      <td>May</td>\n",
       "      <td>2020</td>\n",
       "    </tr>\n",
       "  </tbody>\n",
       "</table>\n",
       "</div>"
      ],
      "text/plain": [
       "    Unnamed: 0  Sale ID          Contact Sex  Age State Product ID  \\\n",
       "0            0        1      Paul Thomas   M   43    OH  M01-F0024   \n",
       "1            1        2      Margo Simms   F   37    WV  GT13-0024   \n",
       "2            2        3        Sam Stine   M   26    PA      I3670   \n",
       "3            3        4       Moe Eggert   M   35    PA      I3593   \n",
       "4            4        5      Jessica Elk   F   55    PA     15M-ED   \n",
       "5            5        6  Sally Struthers   F   45    PA  GT13-0024   \n",
       "6            6        7   Michelle Samms   F   46    OH    GA401IV   \n",
       "7            7        8     Mick Roberts   M   23    OH    MY2J2LL   \n",
       "8            8        9      Ed Klondike   M   52    OH     81TC00   \n",
       "9            9       10       Phil Jones   M   56    WV  M01-F0024   \n",
       "10          10       11       Rick James   M   49    PA    GA401IV   \n",
       "11          11       12         Sue Etna   F   54    OH  GT13-0024   \n",
       "12          12       13       Jason Case   M   57    PA     81TC00   \n",
       "13          13       14     Doug Johnson   M   51    PA      I3670   \n",
       "14          14       15       Andy Sands   M   56    OH    MY2J2LL   \n",
       "15          15       16      Kim Collins   F   49    PA      I3593   \n",
       "16          16       17     Edna Sanders   F   46    OH     15M-ED   \n",
       "17          17       18   Michelle Samms   F   46    NY    MY2J2LL   \n",
       "18          18       19     Mick Roberts   M   23    PA      I3593   \n",
       "19          19       20  Sally Struthers   F   45    NY     81TC00   \n",
       "20          20       21       Jason Case   M   57    PA  M01-F0024   \n",
       "21          21       22     Doug Johnson   M   51    PA    GA401IV   \n",
       "22          22       23      Paul Thomas   M   43    OH     81TC00   \n",
       "23          23       24      Margo Simms   F   37    WV     Q526FA   \n",
       "24          24       25   Michelle Samms   F   46    NY      I3670   \n",
       "25          25       26     Mick Roberts   M   23    PA     Q526FA   \n",
       "26          26       27      Ed Klondike   M   52    OH     Q526FA   \n",
       "27          27       28       Moe Eggert   M   35    PA     15M-ED   \n",
       "28          28       29      Jessica Elk   F   55    PA    GA401IV   \n",
       "29          29       30       Phil Jones   M   56    WV  M01-F0024   \n",
       "30          30       31       Rick James   M   49    PA    GA401IV   \n",
       "31          31       32         Sue Etna   F   54    OH  GT13-0024   \n",
       "32          32       33      Kim Collins   F   49    PA      I3593   \n",
       "33          33       34     Edna Sanders   F   46    OH     15M-ED   \n",
       "34          34       35   Michelle Samms   F   46    NY    MY2J2LL   \n",
       "35          35       36  Sally Struthers   F   45    NY     81TC00   \n",
       "36          36       37       Jason Case   M   57    PA  M01-F0024   \n",
       "37          37       38     Doug Johnson   M   51    PA    GA401IV   \n",
       "38          38       39       Moe Eggert   M   35    PA      I3593   \n",
       "\n",
       "   Product Type  Sale Price  Profit     Lead     Month  Year  \n",
       "0       Desktop      479.99  143.39  Website   January  2018  \n",
       "1       Desktop     1249.99  230.89  Flyer 4   January  2018  \n",
       "2       Desktop      649.99  118.64  Website  February  2018  \n",
       "3        Laptop      399.99   72.09  Website     March  2018  \n",
       "4        Laptop      699.99   98.09  Flyer 4     March  2018  \n",
       "5       Desktop     1249.99  230.89  Flyer 2     April  2018  \n",
       "6        Laptop     1349.99  180.34    Email       May  2018  \n",
       "7        Tablet      999.99  146.69  Website      July  2018  \n",
       "8        Laptop      649.99  122.34    Email      July  2018  \n",
       "9       Desktop      479.99  143.39  Flyer 2    August  2018  \n",
       "10       Laptop     1349.99  180.34  Flyer 3  November  2018  \n",
       "11      Desktop     1249.99  230.89  Flyer 2  November  2018  \n",
       "12       Laptop      649.99  122.34    Email  November  2018  \n",
       "13      Desktop      649.99  118.64  Website  December  2018  \n",
       "14       Tablet      999.99  146.69  Flyer 1  December  2018  \n",
       "15       Laptop      399.99   72.09  Flyer 2   January  2019  \n",
       "16       Laptop      699.99   98.09    Email  February  2019  \n",
       "17       Tablet      999.99  146.69  Website     March  2019  \n",
       "18       Laptop      399.99   72.09  Flyer 4     March  2019  \n",
       "19       Laptop      649.99  122.34  Website     April  2019  \n",
       "20      Desktop      479.99  143.39  Flyer 4       May  2019  \n",
       "21       Laptop     1349.99  180.34  Website    August  2019  \n",
       "22       Laptop      649.99  122.34  Website    August  2019  \n",
       "23       Laptop     1049.99  143.09  Flyer 4  November  2019  \n",
       "24      Desktop      649.99  118.64  Flyer 2  November  2019  \n",
       "25       Laptop     1049.99  143.09    Email  November  2019  \n",
       "26       Laptop     1049.99  143.09  Website  December  2019  \n",
       "27       Laptop      699.99   98.09    Email  December  2019  \n",
       "28       Laptop     1349.99  180.34  Flyer 2  December  2019  \n",
       "29      Desktop      479.99  143.39  Flyer 2   January  2020  \n",
       "30       Laptop     1349.99  180.34  Flyer 1   January  2020  \n",
       "31      Desktop     1249.99  230.89  Flyer 2  February  2020  \n",
       "32       Laptop      399.99   72.09  Flyer 2     March  2020  \n",
       "33       Laptop      699.99   98.09    Email     March  2020  \n",
       "34       Tablet      999.99  146.69  Website     April  2020  \n",
       "35       Laptop      649.99  122.34  Website     April  2020  \n",
       "36      Desktop      479.99  143.39  Flyer 4     April  2020  \n",
       "37       Laptop     1349.99  180.34  Website       May  2020  \n",
       "38       Laptop      399.99   72.09  Website       May  2020  "
      ]
     },
     "execution_count": 180,
     "metadata": {},
     "output_type": "execute_result"
    }
   ],
   "source": [
    "# Check if written\n",
    "pd.read_excel('ComputerSales.xlsx',0)"
   ]
  },
  {
   "cell_type": "markdown",
   "id": "dc4dd37e",
   "metadata": {},
   "source": [
    "# MySQL Database connection"
   ]
  },
  {
   "cell_type": "code",
   "execution_count": null,
   "id": "733d1d26",
   "metadata": {},
   "outputs": [],
   "source": [
    "# Read from MySQL Database\n",
    "try:\n",
    "    db_connection = pymysql.connect(db='students', user='studentadmin', passwd='TurtleDove', host='localhost', port=3306)\n",
    "\n",
    "    stud_df = pd.read_sql('SELECT * FROM students', con=db_connection)\n",
    "    # print(stud_df)\n",
    "except Exception as e:\n",
    "    print(\"Exception : {}\".format(e))\n",
    "finally:\n",
    "    db_connection.close()"
   ]
  },
  {
   "cell_type": "code",
   "execution_count": null,
   "id": "e88874ee",
   "metadata": {},
   "outputs": [],
   "source": [
    "# Write to table \n",
    "try:\n",
    "    db_connection = pymysql.connect(db='students', user='studentadmin', passwd='TurtleDove', host='localhost', port=3306)\n",
    "    # Used to issue queries\n",
    "    cursor = db_connection.cursor()\n",
    "    # Query to enter new student\n",
    "    insert_stmt = \"INSERT INTO students VALUES(NULL, 'Frank', 'Silva', 'fsilva@aol.com', '666 Hell St', 'Yakima', 'WA', 98901, '792-223-8966', '1959-2-22', 'M', NOW(), 3.50)\"\n",
    "    # Execute query\n",
    "    cursor.execute(insert_stmt)\n",
    "    # Commit changes to DB\n",
    "    db_connection.commit()\n",
    "    stud_df = pd.read_sql('SELECT * FROM students', con=db_connection)\n",
    "    print(stud_df)\n",
    "except Exception as e:\n",
    "    print(\"Exception : {}\".format(e))\n",
    "finally:\n",
    "    db_connection.close()\n"
   ]
  },
  {
   "cell_type": "markdown",
   "id": "4684a10a",
   "metadata": {},
   "source": [
    "# Just get 1 column of data"
   ]
  },
  {
   "cell_type": "code",
   "execution_count": 181,
   "id": "b73c6fcd",
   "metadata": {},
   "outputs": [
    {
     "data": {
      "text/plain": [
       "0     OH\n",
       "1     WV\n",
       "2     PA\n",
       "3     PA\n",
       "4     PA\n",
       "5     PA\n",
       "6     OH\n",
       "7     OH\n",
       "8     OH\n",
       "9     WV\n",
       "10    PA\n",
       "11    OH\n",
       "12    PA\n",
       "13    PA\n",
       "14    OH\n",
       "15    PA\n",
       "16    OH\n",
       "17    NY\n",
       "18    PA\n",
       "19    NY\n",
       "20    PA\n",
       "21    PA\n",
       "22    OH\n",
       "23    WV\n",
       "24    NY\n",
       "25    PA\n",
       "26    OH\n",
       "27    PA\n",
       "28    PA\n",
       "29    WV\n",
       "30    PA\n",
       "31    OH\n",
       "32    PA\n",
       "33    OH\n",
       "34    NY\n",
       "35    NY\n",
       "36    PA\n",
       "37    PA\n",
       "38    PA\n",
       "Name: State, dtype: object"
      ]
     },
     "execution_count": 181,
     "metadata": {},
     "output_type": "execute_result"
    }
   ],
   "source": [
    " \n",
    "cs_df_st = pd.read_csv('ComputerSales.csv', usecols=[\"State\"], squeeze=True)\n",
    "cs_df_st\n"
   ]
  },
  {
   "cell_type": "markdown",
   "id": "ef1f3384",
   "metadata": {},
   "source": [
    "# Basics & Math"
   ]
  },
  {
   "cell_type": "code",
   "execution_count": 182,
   "id": "67f92339",
   "metadata": {},
   "outputs": [
    {
     "data": {
      "text/html": [
       "<div>\n",
       "<style scoped>\n",
       "    .dataframe tbody tr th:only-of-type {\n",
       "        vertical-align: middle;\n",
       "    }\n",
       "\n",
       "    .dataframe tbody tr th {\n",
       "        vertical-align: top;\n",
       "    }\n",
       "\n",
       "    .dataframe thead th {\n",
       "        text-align: right;\n",
       "    }\n",
       "</style>\n",
       "<table border=\"1\" class=\"dataframe\">\n",
       "  <thead>\n",
       "    <tr style=\"text-align: right;\">\n",
       "      <th></th>\n",
       "      <th>Sale ID</th>\n",
       "      <th>Contact</th>\n",
       "      <th>Sex</th>\n",
       "      <th>Age</th>\n",
       "      <th>State</th>\n",
       "      <th>Product ID</th>\n",
       "      <th>Product Type</th>\n",
       "      <th>Sale Price</th>\n",
       "      <th>Profit</th>\n",
       "      <th>Lead</th>\n",
       "      <th>Month</th>\n",
       "      <th>Year</th>\n",
       "    </tr>\n",
       "  </thead>\n",
       "  <tbody>\n",
       "    <tr>\n",
       "      <th>0</th>\n",
       "      <td>1</td>\n",
       "      <td>Paul Thomas</td>\n",
       "      <td>M</td>\n",
       "      <td>43</td>\n",
       "      <td>OH</td>\n",
       "      <td>M01-F0024</td>\n",
       "      <td>Desktop</td>\n",
       "      <td>479.99</td>\n",
       "      <td>143.39</td>\n",
       "      <td>Website</td>\n",
       "      <td>January</td>\n",
       "      <td>2018</td>\n",
       "    </tr>\n",
       "    <tr>\n",
       "      <th>2</th>\n",
       "      <td>3</td>\n",
       "      <td>Sam Stine</td>\n",
       "      <td>M</td>\n",
       "      <td>26</td>\n",
       "      <td>PA</td>\n",
       "      <td>I3670</td>\n",
       "      <td>Desktop</td>\n",
       "      <td>649.99</td>\n",
       "      <td>118.64</td>\n",
       "      <td>Website</td>\n",
       "      <td>February</td>\n",
       "      <td>2018</td>\n",
       "    </tr>\n",
       "    <tr>\n",
       "      <th>4</th>\n",
       "      <td>5</td>\n",
       "      <td>Jessica Elk</td>\n",
       "      <td>F</td>\n",
       "      <td>55</td>\n",
       "      <td>PA</td>\n",
       "      <td>15M-ED</td>\n",
       "      <td>Laptop</td>\n",
       "      <td>699.99</td>\n",
       "      <td>98.09</td>\n",
       "      <td>Flyer 4</td>\n",
       "      <td>March</td>\n",
       "      <td>2018</td>\n",
       "    </tr>\n",
       "  </tbody>\n",
       "</table>\n",
       "</div>"
      ],
      "text/plain": [
       "   Sale ID      Contact Sex  Age State Product ID Product Type  Sale Price  \\\n",
       "0        1  Paul Thomas   M   43    OH  M01-F0024      Desktop      479.99   \n",
       "2        3    Sam Stine   M   26    PA      I3670      Desktop      649.99   \n",
       "4        5  Jessica Elk   F   55    PA     15M-ED       Laptop      699.99   \n",
       "\n",
       "   Profit     Lead     Month  Year  \n",
       "0  143.39  Website   January  2018  \n",
       "2  118.64  Website  February  2018  \n",
       "4   98.09  Flyer 4     March  2018  "
      ]
     },
     "execution_count": 182,
     "metadata": {},
     "output_type": "execute_result"
    }
   ],
   "source": [
    "# Display 1st 5 rows\n",
    "cs_df.head()\n",
    "# Display last 5 rows\n",
    "cs_df.tail()\n",
    "# Get 1st 2\n",
    "cs_df[:2]\n",
    "# Get 1st through 5 with a 2 step\n",
    "cs_df[:5:2]"
   ]
  },
  {
   "cell_type": "markdown",
   "id": "53ae539b",
   "metadata": {},
   "source": [
    "# Get indexes"
   ]
  },
  {
   "cell_type": "code",
   "execution_count": 183,
   "id": "1e373ce0",
   "metadata": {},
   "outputs": [
    {
     "data": {
      "text/plain": [
       "<PandasArray>\n",
       "['a', 'b', 'c', 'd']\n",
       "Length: 4, dtype: object"
      ]
     },
     "execution_count": 183,
     "metadata": {},
     "output_type": "execute_result"
    }
   ],
   "source": [
    "# Get indexes\n",
    "cs_df.index.array\n",
    "# Get NumPy array\n",
    "cs_df.to_numpy()\n",
    "# Get array from series\n",
    "ser_1.array"
   ]
  },
  {
   "cell_type": "code",
   "execution_count": 184,
   "id": "f8d045a4",
   "metadata": {},
   "outputs": [],
   "source": [
    "\n",
    "dict_3 = {'one': pd.Series([1., 2., 3.], index=['a', 'b', 'c']),\n",
    "         'two': pd.Series([1., 2., 3., 4.], index=['a', 'b', 'c', 'd'])}\n",
    "df_2 = pd.DataFrame(dict_3)"
   ]
  },
  {
   "cell_type": "code",
   "execution_count": 185,
   "id": "0ba46658",
   "metadata": {},
   "outputs": [
    {
     "name": "stdout",
     "output_type": "stream",
     "text": [
      "   one  two\n",
      "a  1.0  1.0\n",
      "b  2.0  2.0\n",
      "c  3.0  3.0\n",
      "d  0.0  4.0\n"
     ]
    },
    {
     "data": {
      "text/html": [
       "<div>\n",
       "<style scoped>\n",
       "    .dataframe tbody tr th:only-of-type {\n",
       "        vertical-align: middle;\n",
       "    }\n",
       "\n",
       "    .dataframe tbody tr th {\n",
       "        vertical-align: top;\n",
       "    }\n",
       "\n",
       "    .dataframe thead th {\n",
       "        text-align: right;\n",
       "    }\n",
       "</style>\n",
       "<table border=\"1\" class=\"dataframe\">\n",
       "  <thead>\n",
       "    <tr style=\"text-align: right;\">\n",
       "      <th></th>\n",
       "      <th>one</th>\n",
       "      <th>two</th>\n",
       "    </tr>\n",
       "  </thead>\n",
       "  <tbody>\n",
       "    <tr>\n",
       "      <th>a</th>\n",
       "      <td>3.0</td>\n",
       "      <td>3.0</td>\n",
       "    </tr>\n",
       "    <tr>\n",
       "      <th>b</th>\n",
       "      <td>4.0</td>\n",
       "      <td>4.0</td>\n",
       "    </tr>\n",
       "    <tr>\n",
       "      <th>c</th>\n",
       "      <td>5.0</td>\n",
       "      <td>5.0</td>\n",
       "    </tr>\n",
       "    <tr>\n",
       "      <th>d</th>\n",
       "      <td>NaN</td>\n",
       "      <td>6.0</td>\n",
       "    </tr>\n",
       "  </tbody>\n",
       "</table>\n",
       "</div>"
      ],
      "text/plain": [
       "   one  two\n",
       "a  3.0  3.0\n",
       "b  4.0  4.0\n",
       "c  5.0  5.0\n",
       "d  NaN  6.0"
      ]
     },
     "execution_count": 185,
     "metadata": {},
     "output_type": "execute_result"
    }
   ],
   "source": [
    "# You can replace NaN values with 0 or anything else\n",
    "print(df_2.fillna(0))\n",
    "# Get values in row 2\n",
    "row = df_2.iloc[1]\n",
    "# Add items in row 2 to all rows including row 2\n",
    "# You can do the same with sub, mul, and div\n",
    "df_2.add(row, axis='columns')"
   ]
  },
  {
   "cell_type": "code",
   "execution_count": 186,
   "id": "c6f29126",
   "metadata": {},
   "outputs": [
    {
     "data": {
      "text/plain": [
       "False"
      ]
     },
     "execution_count": 186,
     "metadata": {},
     "output_type": "execute_result"
    }
   ],
   "source": [
    "# Get column 2\n",
    "col = df_2['two']\n",
    "# Subtract from other columns\n",
    "df_2.sub(col, axis=0)\n",
    "\n",
    "# Check if empty\n",
    "df_2.empty\n"
   ]
  },
  {
   "cell_type": "code",
   "execution_count": 187,
   "id": "9bebc77e",
   "metadata": {},
   "outputs": [],
   "source": [
    "# Transform executes a function on a dataframe\n",
    "df_5 = pd.DataFrame({'A': range(3), 'B': range(1, 4)})\n"
   ]
  },
  {
   "cell_type": "code",
   "execution_count": 188,
   "id": "4c2ded86",
   "metadata": {},
   "outputs": [
    {
     "data": {
      "text/html": [
       "<div>\n",
       "<style scoped>\n",
       "    .dataframe tbody tr th:only-of-type {\n",
       "        vertical-align: middle;\n",
       "    }\n",
       "\n",
       "    .dataframe tbody tr th {\n",
       "        vertical-align: top;\n",
       "    }\n",
       "\n",
       "    .dataframe thead th {\n",
       "        text-align: right;\n",
       "    }\n",
       "</style>\n",
       "<table border=\"1\" class=\"dataframe\">\n",
       "  <thead>\n",
       "    <tr style=\"text-align: right;\">\n",
       "      <th></th>\n",
       "      <th>A</th>\n",
       "      <th>B</th>\n",
       "    </tr>\n",
       "  </thead>\n",
       "  <tbody>\n",
       "    <tr>\n",
       "      <th>0</th>\n",
       "      <td>1</td>\n",
       "      <td>2</td>\n",
       "    </tr>\n",
       "    <tr>\n",
       "      <th>1</th>\n",
       "      <td>2</td>\n",
       "      <td>3</td>\n",
       "    </tr>\n",
       "    <tr>\n",
       "      <th>2</th>\n",
       "      <td>3</td>\n",
       "      <td>4</td>\n",
       "    </tr>\n",
       "  </tbody>\n",
       "</table>\n",
       "</div>"
      ],
      "text/plain": [
       "   A  B\n",
       "0  1  2\n",
       "1  2  3\n",
       "2  3  4"
      ]
     },
     "execution_count": 188,
     "metadata": {},
     "output_type": "execute_result"
    }
   ],
   "source": [
    "df_5.transform(lambda x: x+1)"
   ]
  },
  {
   "cell_type": "code",
   "execution_count": 189,
   "id": "a5524f8b",
   "metadata": {},
   "outputs": [
    {
     "data": {
      "text/html": [
       "<div>\n",
       "<style scoped>\n",
       "    .dataframe tbody tr th:only-of-type {\n",
       "        vertical-align: middle;\n",
       "    }\n",
       "\n",
       "    .dataframe tbody tr th {\n",
       "        vertical-align: top;\n",
       "    }\n",
       "\n",
       "    .dataframe thead th {\n",
       "        text-align: right;\n",
       "    }\n",
       "</style>\n",
       "<table border=\"1\" class=\"dataframe\">\n",
       "  <thead>\n",
       "    <tr style=\"text-align: right;\">\n",
       "      <th></th>\n",
       "      <th>A</th>\n",
       "      <th>B</th>\n",
       "    </tr>\n",
       "  </thead>\n",
       "  <tbody>\n",
       "    <tr>\n",
       "      <th>0</th>\n",
       "      <td>0</td>\n",
       "      <td>1</td>\n",
       "    </tr>\n",
       "    <tr>\n",
       "      <th>1</th>\n",
       "      <td>1</td>\n",
       "      <td>8</td>\n",
       "    </tr>\n",
       "    <tr>\n",
       "      <th>2</th>\n",
       "      <td>4</td>\n",
       "      <td>27</td>\n",
       "    </tr>\n",
       "  </tbody>\n",
       "</table>\n",
       "</div>"
      ],
      "text/plain": [
       "   A   B\n",
       "0  0   1\n",
       "1  1   8\n",
       "2  4  27"
      ]
     },
     "execution_count": 189,
     "metadata": {},
     "output_type": "execute_result"
    }
   ],
   "source": [
    "df_5.transform(lambda x: x+1)\n",
    "df_5.transform(lambda x: x**2)\n",
    "df_5.transform(lambda x: np.sqrt(x))\n",
    "# You can transform using multiple functions\n",
    "df_5.transform([lambda x: x**2, lambda x: x**3])\n",
    "# Passing a dictionary allows you to perform different calculations\n",
    "# on different columns\n",
    "df_5.transform({'A': lambda x: x**2, 'B': lambda x: x**3})"
   ]
  },
  {
   "cell_type": "code",
   "execution_count": 190,
   "id": "d4019e42",
   "metadata": {},
   "outputs": [
    {
     "data": {
      "text/html": [
       "<div>\n",
       "<style scoped>\n",
       "    .dataframe tbody tr th:only-of-type {\n",
       "        vertical-align: middle;\n",
       "    }\n",
       "\n",
       "    .dataframe tbody tr th {\n",
       "        vertical-align: top;\n",
       "    }\n",
       "\n",
       "    .dataframe thead th {\n",
       "        text-align: right;\n",
       "    }\n",
       "</style>\n",
       "<table border=\"1\" class=\"dataframe\">\n",
       "  <thead>\n",
       "    <tr style=\"text-align: right;\">\n",
       "      <th></th>\n",
       "      <th>one</th>\n",
       "      <th>two</th>\n",
       "    </tr>\n",
       "  </thead>\n",
       "  <tbody>\n",
       "    <tr>\n",
       "      <th>a</th>\n",
       "      <td>False</td>\n",
       "      <td>False</td>\n",
       "    </tr>\n",
       "    <tr>\n",
       "      <th>b</th>\n",
       "      <td>False</td>\n",
       "      <td>False</td>\n",
       "    </tr>\n",
       "    <tr>\n",
       "      <th>c</th>\n",
       "      <td>False</td>\n",
       "      <td>False</td>\n",
       "    </tr>\n",
       "    <tr>\n",
       "      <th>d</th>\n",
       "      <td>True</td>\n",
       "      <td>False</td>\n",
       "    </tr>\n",
       "  </tbody>\n",
       "</table>\n",
       "</div>"
      ],
      "text/plain": [
       "     one    two\n",
       "a  False  False\n",
       "b  False  False\n",
       "c  False  False\n",
       "d   True  False"
      ]
     },
     "execution_count": 190,
     "metadata": {},
     "output_type": "execute_result"
    }
   ],
   "source": [
    "# map performs a function on a series\n",
    "df_5['A'].map(lambda x: x**2)\n",
    "\n",
    "# applymap does the same on a dataframe\n",
    "df_5.applymap(lambda x: x**2)\n",
    "\n",
    "# Get unique values in column 2 of DF\n",
    "df_2['two'].unique()\n",
    "\n",
    "# Get number of uniques\n",
    "df_2['two'].nunique()\n",
    "\n",
    "# Get the number of times each value showed in column 2\n",
    "df_2['two'].value_counts()\n",
    "\n",
    "# Get column names\n",
    "df_2.columns\n",
    "\n",
    "# Get index info\n",
    "df_2.index\n",
    "\n",
    "# Return a DF that lists null values as True\n",
    "df_2.isnull()"
   ]
  },
  {
   "cell_type": "markdown",
   "id": "89c9082a",
   "metadata": {},
   "source": [
    "# Group Data"
   ]
  },
  {
   "cell_type": "code",
   "execution_count": 193,
   "id": "5f6bc052",
   "metadata": {},
   "outputs": [
    {
     "data": {
      "text/html": [
       "<div>\n",
       "<style scoped>\n",
       "    .dataframe tbody tr th:only-of-type {\n",
       "        vertical-align: middle;\n",
       "    }\n",
       "\n",
       "    .dataframe tbody tr th {\n",
       "        vertical-align: top;\n",
       "    }\n",
       "\n",
       "    .dataframe thead th {\n",
       "        text-align: right;\n",
       "    }\n",
       "</style>\n",
       "<table border=\"1\" class=\"dataframe\">\n",
       "  <thead>\n",
       "    <tr style=\"text-align: right;\">\n",
       "      <th></th>\n",
       "      <th>Sales</th>\n",
       "    </tr>\n",
       "    <tr>\n",
       "      <th>Store</th>\n",
       "      <th></th>\n",
       "    </tr>\n",
       "  </thead>\n",
       "  <tbody>\n",
       "    <tr>\n",
       "      <th>1</th>\n",
       "      <td>22.0</td>\n",
       "    </tr>\n",
       "    <tr>\n",
       "      <th>2</th>\n",
       "      <td>17.0</td>\n",
       "    </tr>\n",
       "  </tbody>\n",
       "</table>\n",
       "</div>"
      ],
      "text/plain": [
       "       Sales\n",
       "Store       \n",
       "1       22.0\n",
       "2       17.0"
      ]
     },
     "execution_count": 193,
     "metadata": {},
     "output_type": "execute_result"
    }
   ],
   "source": [
    "# Groupby allows you to group rows based on a columnand perform a function\n",
    "# that combines those values (Aggregate Function)\n",
    "dict_5 = {'Store': [1,2,1,2], 'Flavor': ['Choc', 'Van', 'Straw', 'Choc'], \n",
    "         'Sales': [26, 12, 18, 22]}\n",
    "\n",
    "df_11 = pd.DataFrame(dict_5)\n",
    "\n",
    "# Group data by the store number\n",
    "by_store = df_11.groupby('Store')\n",
    "# Get mean sales by store\n",
    "by_store.mean()"
   ]
  },
  {
   "cell_type": "code",
   "execution_count": 194,
   "id": "37b5c88a",
   "metadata": {},
   "outputs": [
    {
     "data": {
      "text/plain": [
       "Sales    44\n",
       "Name: 1, dtype: int64"
      ]
     },
     "execution_count": 194,
     "metadata": {},
     "output_type": "execute_result"
    }
   ],
   "source": [
    "# Get sales total just for store 1\n",
    "by_store.sum().loc[1]\n",
    "\n"
   ]
  },
  {
   "cell_type": "code",
   "execution_count": 195,
   "id": "b68887ca",
   "metadata": {},
   "outputs": [
    {
     "data": {
      "text/html": [
       "<div>\n",
       "<style scoped>\n",
       "    .dataframe tbody tr th:only-of-type {\n",
       "        vertical-align: middle;\n",
       "    }\n",
       "\n",
       "    .dataframe tbody tr th {\n",
       "        vertical-align: top;\n",
       "    }\n",
       "\n",
       "    .dataframe thead tr th {\n",
       "        text-align: left;\n",
       "    }\n",
       "\n",
       "    .dataframe thead tr:last-of-type th {\n",
       "        text-align: right;\n",
       "    }\n",
       "</style>\n",
       "<table border=\"1\" class=\"dataframe\">\n",
       "  <thead>\n",
       "    <tr>\n",
       "      <th></th>\n",
       "      <th colspan=\"8\" halign=\"left\">Sales</th>\n",
       "    </tr>\n",
       "    <tr>\n",
       "      <th></th>\n",
       "      <th>count</th>\n",
       "      <th>mean</th>\n",
       "      <th>std</th>\n",
       "      <th>min</th>\n",
       "      <th>25%</th>\n",
       "      <th>50%</th>\n",
       "      <th>75%</th>\n",
       "      <th>max</th>\n",
       "    </tr>\n",
       "    <tr>\n",
       "      <th>Store</th>\n",
       "      <th></th>\n",
       "      <th></th>\n",
       "      <th></th>\n",
       "      <th></th>\n",
       "      <th></th>\n",
       "      <th></th>\n",
       "      <th></th>\n",
       "      <th></th>\n",
       "    </tr>\n",
       "  </thead>\n",
       "  <tbody>\n",
       "    <tr>\n",
       "      <th>1</th>\n",
       "      <td>2.0</td>\n",
       "      <td>22.0</td>\n",
       "      <td>5.656854</td>\n",
       "      <td>18.0</td>\n",
       "      <td>20.0</td>\n",
       "      <td>22.0</td>\n",
       "      <td>24.0</td>\n",
       "      <td>26.0</td>\n",
       "    </tr>\n",
       "    <tr>\n",
       "      <th>2</th>\n",
       "      <td>2.0</td>\n",
       "      <td>17.0</td>\n",
       "      <td>7.071068</td>\n",
       "      <td>12.0</td>\n",
       "      <td>14.5</td>\n",
       "      <td>17.0</td>\n",
       "      <td>19.5</td>\n",
       "      <td>22.0</td>\n",
       "    </tr>\n",
       "  </tbody>\n",
       "</table>\n",
       "</div>"
      ],
      "text/plain": [
       "      Sales                                              \n",
       "      count  mean       std   min   25%   50%   75%   max\n",
       "Store                                                    \n",
       "1       2.0  22.0  5.656854  18.0  20.0  22.0  24.0  26.0\n",
       "2       2.0  17.0  7.071068  12.0  14.5  17.0  19.5  22.0"
      ]
     },
     "execution_count": 195,
     "metadata": {},
     "output_type": "execute_result"
    }
   ],
   "source": [
    "# You can use multiple functions of get a bunch\n",
    "by_store.describe()"
   ]
  },
  {
   "cell_type": "markdown",
   "id": "61bba8da",
   "metadata": {},
   "source": [
    "# Concat, Merge and Join Data"
   ]
  },
  {
   "cell_type": "code",
   "execution_count": 196,
   "id": "6417d215",
   "metadata": {},
   "outputs": [],
   "source": [
    "# You can concatenate DFs in the order DFs are provided\n",
    "df_12 = pd.DataFrame({'A': [1,2,3],\n",
    "                     'B': [4,5,6]},\n",
    "                    index=[1,2,3])\n",
    "df_13 = pd.DataFrame({'A': [7,8,9],\n",
    "                     'B': [10,11,12]},\n",
    "                    index=[4,5,6])"
   ]
  },
  {
   "cell_type": "code",
   "execution_count": 197,
   "id": "0815f35b",
   "metadata": {},
   "outputs": [
    {
     "data": {
      "text/html": [
       "<div>\n",
       "<style scoped>\n",
       "    .dataframe tbody tr th:only-of-type {\n",
       "        vertical-align: middle;\n",
       "    }\n",
       "\n",
       "    .dataframe tbody tr th {\n",
       "        vertical-align: top;\n",
       "    }\n",
       "\n",
       "    .dataframe thead th {\n",
       "        text-align: right;\n",
       "    }\n",
       "</style>\n",
       "<table border=\"1\" class=\"dataframe\">\n",
       "  <thead>\n",
       "    <tr style=\"text-align: right;\">\n",
       "      <th></th>\n",
       "      <th>A</th>\n",
       "      <th>B</th>\n",
       "    </tr>\n",
       "  </thead>\n",
       "  <tbody>\n",
       "    <tr>\n",
       "      <th>1</th>\n",
       "      <td>1</td>\n",
       "      <td>4</td>\n",
       "    </tr>\n",
       "    <tr>\n",
       "      <th>2</th>\n",
       "      <td>2</td>\n",
       "      <td>5</td>\n",
       "    </tr>\n",
       "    <tr>\n",
       "      <th>3</th>\n",
       "      <td>3</td>\n",
       "      <td>6</td>\n",
       "    </tr>\n",
       "    <tr>\n",
       "      <th>4</th>\n",
       "      <td>7</td>\n",
       "      <td>10</td>\n",
       "    </tr>\n",
       "    <tr>\n",
       "      <th>5</th>\n",
       "      <td>8</td>\n",
       "      <td>11</td>\n",
       "    </tr>\n",
       "    <tr>\n",
       "      <th>6</th>\n",
       "      <td>9</td>\n",
       "      <td>12</td>\n",
       "    </tr>\n",
       "  </tbody>\n",
       "</table>\n",
       "</div>"
      ],
      "text/plain": [
       "   A   B\n",
       "1  1   4\n",
       "2  2   5\n",
       "3  3   6\n",
       "4  7  10\n",
       "5  8  11\n",
       "6  9  12"
      ]
     },
     "execution_count": 197,
     "metadata": {},
     "output_type": "execute_result"
    }
   ],
   "source": [
    "pd.concat([df_12, df_13])"
   ]
  },
  {
   "cell_type": "markdown",
   "id": "2b686102",
   "metadata": {},
   "source": [
    "# Merge"
   ]
  },
  {
   "cell_type": "code",
   "execution_count": 198,
   "id": "9cdc99d9",
   "metadata": {},
   "outputs": [
    {
     "data": {
      "text/html": [
       "<div>\n",
       "<style scoped>\n",
       "    .dataframe tbody tr th:only-of-type {\n",
       "        vertical-align: middle;\n",
       "    }\n",
       "\n",
       "    .dataframe tbody tr th {\n",
       "        vertical-align: top;\n",
       "    }\n",
       "\n",
       "    .dataframe thead th {\n",
       "        text-align: right;\n",
       "    }\n",
       "</style>\n",
       "<table border=\"1\" class=\"dataframe\">\n",
       "  <thead>\n",
       "    <tr style=\"text-align: right;\">\n",
       "      <th></th>\n",
       "      <th>A_x</th>\n",
       "      <th>B_x</th>\n",
       "      <th>key</th>\n",
       "      <th>A_y</th>\n",
       "      <th>B_y</th>\n",
       "    </tr>\n",
       "  </thead>\n",
       "  <tbody>\n",
       "    <tr>\n",
       "      <th>0</th>\n",
       "      <td>1</td>\n",
       "      <td>4</td>\n",
       "      <td>1</td>\n",
       "      <td>7</td>\n",
       "      <td>10</td>\n",
       "    </tr>\n",
       "    <tr>\n",
       "      <th>1</th>\n",
       "      <td>2</td>\n",
       "      <td>5</td>\n",
       "      <td>2</td>\n",
       "      <td>8</td>\n",
       "      <td>11</td>\n",
       "    </tr>\n",
       "    <tr>\n",
       "      <th>2</th>\n",
       "      <td>3</td>\n",
       "      <td>6</td>\n",
       "      <td>3</td>\n",
       "      <td>9</td>\n",
       "      <td>12</td>\n",
       "    </tr>\n",
       "  </tbody>\n",
       "</table>\n",
       "</div>"
      ],
      "text/plain": [
       "   A_x  B_x  key  A_y  B_y\n",
       "0    1    4    1    7   10\n",
       "1    2    5    2    8   11\n",
       "2    3    6    3    9   12"
      ]
     },
     "execution_count": 198,
     "metadata": {},
     "output_type": "execute_result"
    }
   ],
   "source": [
    "# Merge 2 DFs using their shared key column\n",
    "df_12 = pd.DataFrame({'A': [1,2,3],\n",
    "                     'B': [4,5,6],\n",
    "                     'key': [1,2,3]})\n",
    "df_13 = pd.DataFrame({'A': [7,8,9],\n",
    "                     'B': [10,11,12],\n",
    "                     'key': [1,2,3]})\n",
    "# inner merges at the intersection of keys\n",
    "pd.merge(df_12, df_13, how='inner', on='key')\n",
    "# how='left' or 'right' : Use keys from left or right frame\n",
    "# how='outer' : Use union of keys\n"
   ]
  },
  {
   "cell_type": "markdown",
   "id": "456ac432",
   "metadata": {},
   "source": [
    "# Join"
   ]
  },
  {
   "cell_type": "code",
   "execution_count": 199,
   "id": "e22507eb",
   "metadata": {},
   "outputs": [
    {
     "data": {
      "text/html": [
       "<div>\n",
       "<style scoped>\n",
       "    .dataframe tbody tr th:only-of-type {\n",
       "        vertical-align: middle;\n",
       "    }\n",
       "\n",
       "    .dataframe tbody tr th {\n",
       "        vertical-align: top;\n",
       "    }\n",
       "\n",
       "    .dataframe thead th {\n",
       "        text-align: right;\n",
       "    }\n",
       "</style>\n",
       "<table border=\"1\" class=\"dataframe\">\n",
       "  <thead>\n",
       "    <tr style=\"text-align: right;\">\n",
       "      <th></th>\n",
       "      <th>A</th>\n",
       "      <th>B</th>\n",
       "      <th>C</th>\n",
       "      <th>D</th>\n",
       "    </tr>\n",
       "  </thead>\n",
       "  <tbody>\n",
       "    <tr>\n",
       "      <th>1</th>\n",
       "      <td>1.0</td>\n",
       "      <td>4.0</td>\n",
       "      <td>7.0</td>\n",
       "      <td>10.0</td>\n",
       "    </tr>\n",
       "    <tr>\n",
       "      <th>2</th>\n",
       "      <td>2.0</td>\n",
       "      <td>5.0</td>\n",
       "      <td>NaN</td>\n",
       "      <td>NaN</td>\n",
       "    </tr>\n",
       "    <tr>\n",
       "      <th>3</th>\n",
       "      <td>3.0</td>\n",
       "      <td>6.0</td>\n",
       "      <td>NaN</td>\n",
       "      <td>NaN</td>\n",
       "    </tr>\n",
       "    <tr>\n",
       "      <th>4</th>\n",
       "      <td>NaN</td>\n",
       "      <td>NaN</td>\n",
       "      <td>8.0</td>\n",
       "      <td>11.0</td>\n",
       "    </tr>\n",
       "    <tr>\n",
       "      <th>5</th>\n",
       "      <td>NaN</td>\n",
       "      <td>NaN</td>\n",
       "      <td>9.0</td>\n",
       "      <td>12.0</td>\n",
       "    </tr>\n",
       "  </tbody>\n",
       "</table>\n",
       "</div>"
      ],
      "text/plain": [
       "     A    B    C     D\n",
       "1  1.0  4.0  7.0  10.0\n",
       "2  2.0  5.0  NaN   NaN\n",
       "3  3.0  6.0  NaN   NaN\n",
       "4  NaN  NaN  8.0  11.0\n",
       "5  NaN  NaN  9.0  12.0"
      ]
     },
     "execution_count": 199,
     "metadata": {},
     "output_type": "execute_result"
    }
   ],
   "source": [
    "# You can join DFs with different indexes and instead of using \n",
    "# keys use a column\n",
    "df_12 = pd.DataFrame({'A': [1,2,3],\n",
    "                     'B': [4,5,6]},\n",
    "                    index=[1,2,3])\n",
    "df_13 = pd.DataFrame({'C': [7,8,9],\n",
    "                     'D': [10,11,12]},\n",
    "                    index=[1,4,5])\n",
    "df_12.join(df_13, how='outer')"
   ]
  },
  {
   "cell_type": "markdown",
   "id": "bebedd8e",
   "metadata": {},
   "source": [
    "# Statistics"
   ]
  },
  {
   "cell_type": "code",
   "execution_count": null,
   "id": "fd0a8cc5",
   "metadata": {},
   "outputs": [],
   "source": [
    "# Get ice cream sales data\n",
    "ics_df = pd.read_csv('icecreamsales.csv')\n",
    "ics_df\n",
    "\n",
    "# Get total count of both columns\n",
    "ics_df.count()\n",
    "\n",
    "# skipna skips null / NaN values\n",
    "ics_df.sum(skipna=True)\n",
    "# Get mean for named column\n",
    "ics_df[\"Sales\"].mean()\n",
    "ics_df[\"Sales\"].median()\n",
    "ics_df[\"Sales\"].mode()\n",
    "ics_df[\"Sales\"].min()\n",
    "ics_df[\"Sales\"].max()\n",
    "ics_df[\"Sales\"].prod() # Product of values\n",
    "ics_df[\"Sales\"].std() # Standard deviation\n",
    "ics_df[\"Sales\"].var() # Variance\n",
    "ics_df[\"Sales\"].sem() # Standard error\n",
    "# Negative : Left long tail, Positive : Right long tail\n",
    "ics_df[\"Sales\"].skew()\n",
    "# Kurtosis : < 3 less outliers, 3 Normal Distribution,\n",
    "# > 3 more outliers\n",
    "ics_df[\"Sales\"].kurt()\n",
    "ics_df[\"Sales\"].quantile(.5)\n",
    "ics_df[\"Sales\"].cumsum()\n",
    "ics_df[\"Sales\"].cumprod()\n",
    "ics_df[\"Sales\"].cummax()\n",
    "ics_df[\"Sales\"].cummin()\n",
    "\n",
    "# Multiple stats at once\n",
    "ics_df.describe()\n",
    "\n",
    "ser_dice = pd.Series(data=[2, 3, 3, 4, 4, 4, 5, 5, 5, 5, 6, 6, \n",
    "                           6, 6, 6, 7, 7, 7, 7, 7, 7, 8, 8, 8,\n",
    "                          8, 8, 9, 9, 9, 9, 10, 10, 10, 11, 11, 12])\n",
    "# Count for each value in series\n",
    "ser_dice.value_counts()\n",
    "\n",
    "# You can perform calculations on multiple columns using\n",
    "# aggregate\n",
    "print(df_2)\n",
    "df_2.agg(np.mean)\n",
    "\n",
    "# You can do this with multiple functions\n",
    "df_2.agg(['mean', 'std'])\n",
    "\n"
   ]
  },
  {
   "cell_type": "markdown",
   "id": "6e3a083b",
   "metadata": {},
   "source": [
    "# Iteration"
   ]
  },
  {
   "cell_type": "code",
   "execution_count": 201,
   "id": "d75564be",
   "metadata": {},
   "outputs": [
    {
     "data": {
      "text/plain": [
       "a    0\n",
       "b    1\n",
       "c    2\n",
       "d    3\n",
       "e    4\n",
       "dtype: int64"
      ]
     },
     "execution_count": 201,
     "metadata": {},
     "output_type": "execute_result"
    }
   ],
   "source": [
    "# Iterating over series\n",
    "ser_7 = pd.Series(range(5), index=['a', 'b', 'c', 'd', 'e'])\n",
    "ser_7"
   ]
  },
  {
   "cell_type": "code",
   "execution_count": 202,
   "id": "aefc1c29",
   "metadata": {},
   "outputs": [
    {
     "name": "stdout",
     "output_type": "stream",
     "text": [
      "0\n",
      "1\n",
      "2\n",
      "3\n",
      "4\n"
     ]
    }
   ],
   "source": [
    "for col in ser_7:\n",
    "    print(col)"
   ]
  },
  {
   "cell_type": "code",
   "execution_count": 203,
   "id": "1dda3dfa",
   "metadata": {},
   "outputs": [
    {
     "name": "stdout",
     "output_type": "stream",
     "text": [
      "    C   D   E\n",
      "B  26  39  33\n",
      "C  40  18  39\n"
     ]
    }
   ],
   "source": [
    "# Iterating over DFs\n",
    "arr_4 = np.random.randint(10, 50, size=(2, 3))\n",
    "df_8 = pd.DataFrame(arr_4, ['B', 'C'], ['C', 'D', 'E'])\n",
    "print(df_8)"
   ]
  },
  {
   "cell_type": "code",
   "execution_count": 204,
   "id": "c57155be",
   "metadata": {},
   "outputs": [
    {
     "name": "stdout",
     "output_type": "stream",
     "text": [
      "C\n",
      "B    26\n",
      "C    40\n",
      "Name: C, dtype: int64\n",
      "D\n",
      "B    39\n",
      "C    18\n",
      "Name: D, dtype: int64\n",
      "E\n",
      "B    33\n",
      "C    39\n",
      "Name: E, dtype: int64\n"
     ]
    }
   ],
   "source": [
    "# items allows you to iterate through key value pairs to make\n",
    "# calculations 1 column at a time\n",
    "for label, ser in df_8.items():\n",
    "    print(label)\n",
    "    print(ser)"
   ]
  },
  {
   "cell_type": "code",
   "execution_count": 205,
   "id": "4b518054",
   "metadata": {},
   "outputs": [
    {
     "name": "stdout",
     "output_type": "stream",
     "text": [
      "B\n",
      "C    26\n",
      "D    39\n",
      "E    33\n",
      "Name: B, dtype: int64\n",
      "C\n",
      "C    40\n",
      "D    18\n",
      "E    39\n",
      "Name: C, dtype: int64\n",
      "\n"
     ]
    }
   ],
   "source": [
    "# You can also iterate through rows\n",
    "for index, row in df_8.iterrows():\n",
    "    print(f\"{index}\\n{row}\")\n",
    "print()"
   ]
  },
  {
   "cell_type": "code",
   "execution_count": 206,
   "id": "face75a5",
   "metadata": {},
   "outputs": [
    {
     "name": "stdout",
     "output_type": "stream",
     "text": [
      "Pandas(Index='B', C=26, D=39, E=33)\n",
      "Pandas(Index='C', C=40, D=18, E=39)\n"
     ]
    }
   ],
   "source": [
    "# Get a tuple that contains row data\n",
    "for row in df_8.itertuples():\n",
    "    print(row)"
   ]
  },
  {
   "cell_type": "markdown",
   "id": "ab480ea8",
   "metadata": {},
   "source": [
    "# Sorting"
   ]
  },
  {
   "cell_type": "code",
   "execution_count": null,
   "id": "33389d84",
   "metadata": {},
   "outputs": [],
   "source": [
    "df_8\n",
    "\n",
    "# Sorting by index will return the same results if indexes\n",
    "# are in order, to reverse indexes mark ascending as False\n",
    "df_8.sort_index(ascending=False)\n",
    "\n",
    "# Sort by value for column D (Use the same function for series)\n",
    "df_8.sort_values(by='D')"
   ]
  },
  {
   "cell_type": "markdown",
   "id": "88906258",
   "metadata": {},
   "source": [
    "# Pass Data to Function"
   ]
  },
  {
   "cell_type": "code",
   "execution_count": null,
   "id": "ad15162c",
   "metadata": {},
   "outputs": [],
   "source": [
    "import sys\n",
    "\n",
    "# You can pass DataFrames and Series into functions\n",
    "def get_profit_total(df):\n",
    "    prof_ser = df['Profit']\n",
    "    print(f\"Total Profit : {prof_ser.sum()}\")\n",
    "\n",
    "get_profit_total(cs_df)\n",
    "\n",
    "# Receives a DataFrame, splits the contact into new columns\n",
    "# being first and last name\n",
    "def split_name(df):\n",
    "    def get_names(full_name):\n",
    "        # Split contact at space\n",
    "        f_name, l_name = full_name.split()\n",
    "        # Create a series with first & last names in columns\n",
    "        # with those labels\n",
    "        return pd.Series(\n",
    "        (f_name, l_name),\n",
    "        index=['First Name', 'Last Name']\n",
    "        )\n",
    "    # apply() executes the function on all names in Contact column\n",
    "    names = df['Contact'].apply(get_names)\n",
    "    df[names.columns] = names\n",
    "    return df\n",
    "\n",
    "# Run function and display top 5 results\n",
    "split_name(cs_df).head()\n",
    "\n",
    "# Will assign people to different age groups based on age\n",
    "def create_age_groups(df):\n",
    "    # Must have 1 more bins than labels\n",
    "    bins = [0, 30, 50, sys.maxsize]\n",
    "    # Group labels\n",
    "    labels = ['<30', '30-50', '>50']\n",
    "    \n",
    "    # cut puts values into certain groups based on intervals\n",
    "    # The group assigned to <30 has an age between 0 and 30\n",
    "    # between 30 & 50 is assigned 30-50 and so on\n",
    "    age_group = pd.cut(df['Age'], bins=bins, labels=labels)\n",
    "    # Create new column and return new dataframe info\n",
    "    df['Age Group'] = age_group\n",
    "    return df\n",
    "\n",
    "create_age_groups(cs_df)\n",
    "\n",
    "# You can use a pipe to pass a dataframe to multiple functions\n",
    "cs_df.pipe(split_name).pipe(create_age_groups).head()\n",
    "\n"
   ]
  },
  {
   "cell_type": "markdown",
   "id": "a6f5c89b",
   "metadata": {},
   "source": [
    "# Aligning, Reindexing and Remaining Labels"
   ]
  },
  {
   "cell_type": "code",
   "execution_count": null,
   "id": "5f3b2e79",
   "metadata": {},
   "outputs": [],
   "source": [
    "ser_6 = pd.Series(range(5), index=['a', 'b', 'c', 'd', 'e'])\n",
    "sl_1 = ser_6[:4]\n",
    "sl_2 = ser_6[1:]\n",
    "print(sl_1)\n",
    "print(sl_2)\n",
    "# Align both series by the union of their indexes\n",
    "sl_1.align(sl_2)\n",
    "# Align by calling series\n",
    "sl_1.align(sl_2, join='left')\n",
    "# Use passed series indexes\n",
    "sl_1.align(sl_2, join='right')\n",
    "# Get where indexes intersect\n",
    "sl_1.align(sl_2, join='inner')\n",
    "\n",
    "# You can use align with DFs as well\n",
    "arr_3 = np.random.randint(10, 50, size=(2, 3))\n",
    "df_6 = pd.DataFrame(arr_3, ['A', 'B'], ['C', 'D', 'E'])\n",
    "arr_3 = np.random.randint(10, 50, size=(2, 3))\n",
    "df_7 = pd.DataFrame(arr_3, ['B', 'C'], ['C', 'D', 'E'])\n",
    "df_6\n",
    "df_6.align(df_7)\n",
    "\n",
    "# reindex allows you to align data by index\n",
    "ser_6.reindex(['c','b','a'])\n",
    "\n",
    "# Do the same with DFs\n",
    "df_6.reindex(['B','A'])\n",
    "\n",
    "# Drop is very similar to reindex except it receives labels\n",
    "# you don't want to include\n",
    "df_6.drop(['A'], axis=0)\n",
    "df_6.drop(['D'], axis=1)\n",
    "\n",
    "# You can rename labels\n",
    "df_6.rename(columns={'C': 'Men', 'D': 'Women', 'E': 'Pets'},\n",
    "           index={'A': 1, 'B': 2})"
   ]
  },
  {
   "cell_type": "markdown",
   "id": "d90582b1",
   "metadata": {},
   "source": [
    "# Multiindexing"
   ]
  },
  {
   "cell_type": "code",
   "execution_count": null,
   "id": "875e67a0",
   "metadata": {},
   "outputs": [],
   "source": [
    "# Multi-level indexing allows you to store data on multiple\n",
    "# dimensions\n",
    "days = ['Day 1', 'Day 1', 'Day 1', 'Day 2', 'Day 2', 'Day 2']\n",
    "meals = [1,2,3,1,2,3]\n",
    "# zip pairs the days and meals arrays \n",
    "# Then we create a list of those paired tuples\n",
    "hier_index = list(zip(days, meals))\n",
    "print(hier_index)\n",
    "# Converts list of tuples into each row and column\n",
    "hier_index = pd.MultiIndex.from_tuples(hier_index)\n",
    "# Generate random array representing calories eaten per meal\n",
    "arr_5 = np.random.randint(500, 700, size=(6, 2))\n",
    "df_9 = pd.DataFrame(arr_5, hier_index, ['M', 'F'])\n",
    "print(df_9)\n",
    "\n",
    "# Grab the day 1 DF\n",
    "df_9.loc['Day 1']\n",
    "\n",
    "# Grab 1st row as a series\n",
    "df_9.loc['Day 1'].loc[1]\n",
    "\n",
    "# Grab calories eaten by the female on day 2 for the 2nd meal\n",
    "df_9.loc['Day 2'].loc[2]['F']\n",
    "\n",
    "# We can assign names to the Day and Meals Column\n",
    "df_9.index.names = ['Day', 'Meal']\n",
    "df_9\n",
    "\n",
    "# Get a cross section\n",
    "# This gets me the Day 2 DF\n",
    "df_9.xs('Day 2')\n",
    "\n",
    "# Get calories for the 1st meal for both days by saying what\n",
    "# meal index you want and the Meal column name\n",
    "df_9.xs(1, level='Meal')\n",
    "\n",
    "# Create a MultiIndex out of a DF using a pivot table\n",
    "dict_6 = {'A':['Day 1', 'Day 1', 'Day 1', 'Day 2', 'Day 2', 'Day 2'],\n",
    "         'B': [1,2,3,1,2,3],\n",
    "         'C': ['M', 'F', 'M', 'F', 'M', 'F'],\n",
    "         'D': [1,2,3,4,5,6]}\n",
    "df_14 = pd.DataFrame(dict_6)\n",
    "# Designate the D column is the data\n",
    "# Make A & B a multilevel index\n",
    "# Define column names come from column C\n",
    "# You will have NaNs where data was missing\n",
    "df_14.pivot_table(values='D', index=['A','B'], columns=['C'])"
   ]
  },
  {
   "cell_type": "markdown",
   "id": "fb0c6638",
   "metadata": {},
   "source": [
    "# Missing Data"
   ]
  },
  {
   "cell_type": "code",
   "execution_count": null,
   "id": "9e6d733f",
   "metadata": {},
   "outputs": [],
   "source": [
    "dict_4 = {'A': [1,2,np.nan], 'B': [4, np.nan, np.nan], 'C': [7.,8.,9.]}\n",
    "df_10 = pd.DataFrame(dict_4)\n",
    "print(df_10)\n",
    "\n",
    "# Drop missing data from DF (Drops any row with missing values)\n",
    "df_10.dropna()\n",
    "\n",
    "# Drop all columns with any missing data\n",
    "df_10.dropna(axis=1)\n",
    "\n",
    "# Drop row unless it has at least 2 non-NaN values\n",
    "df_10.dropna(thresh=2)\n",
    "\n",
    "# Fill NaN values with 0\n",
    "df_10.fillna(value=0.0)\n",
    "\n",
    "# Fill A column with the mean of column\n",
    "df_10['A'].fillna(value=df_10['A'].mean())\n",
    "\n",
    "# Fill with previous value\n",
    "df_10.fillna(method='ffill')\n",
    "\n",
    "# Fill with next value (Only works if there is a next value)\n",
    "df_10.fillna(method='bfill')"
   ]
  },
  {
   "cell_type": "markdown",
   "id": "38bbc07d",
   "metadata": {},
   "source": [
    "# Experimenting with Data"
   ]
  },
  {
   "cell_type": "code",
   "execution_count": null,
   "id": "3c72ca59",
   "metadata": {},
   "outputs": [],
   "source": [
    "cs_df.head() # Get 1st 5\n",
    "print(cs_df.columns) # Get column names\n",
    "cs_df['Profit'].mean() # Average profit per item\n",
    "# Get the product with the highest profit\n",
    "cs_df[['Product ID', 'Profit']].max(axis=0).head()\n",
    "# Number of people who purchased from WV\n",
    "cs_df[cs_df['State']=='WV']['State'].count()\n",
    "# Number of purchases in 2019\n",
    "len(cs_df[cs_df['Year']==2019].index)\n",
    "# Get number of sales for each product type\n",
    "cs_df['Product ID'].value_counts()\n",
    "# Get list of customers that bought a specific product\n",
    "cs_df[cs_df['Product ID']=='M01-F0024']['Contact']\n",
    "# How many made a website purchase for a profit over $200\n",
    "cs_df[(cs_df['Lead']=='Website') & (cs_df['Profit']>150)]['Lead'].count()\n",
    "# Find out how many product profit amounts include .89 in cents\n",
    "cs_df['Profit'].apply(lambda cents: str(cents).split('.')[1]=='89').value_counts()\n"
   ]
  },
  {
   "cell_type": "markdown",
   "id": "dd6c788b",
   "metadata": {},
   "source": [
    "# Visulization"
   ]
  },
  {
   "cell_type": "code",
   "execution_count": null,
   "id": "5ef29d2e",
   "metadata": {},
   "outputs": [],
   "source": [
    "# Library usef to create advanced static, animated and\n",
    "# interactive visualizations\n",
    "import matplotlib.pyplot as plt\n",
    "\n",
    "# Displays matplotlib plots in the Notebook\n",
    "%matplotlib inline\n",
    "\n",
    "# Histograms provide an approximation of the distribution of\n",
    "# results. You create them by dividing the range of values into \n",
    "# bins or buckets. Then you count how many of the results fall\n",
    "# into each bin.\n",
    "# Rolls 2 dice 5000 times and charts the frequency and \n",
    "# a histogram\n",
    "\n",
    "# Even though the odds increase as you approach 7 and then\n",
    "# decrease again (1 way to roll a 2 / 6 ways to roll a 7)\n",
    "# over many rolls they are nearly equal.\n",
    "df_dice = pd.DataFrame(\n",
    "    np.random.randint(1,7,5000),\n",
    "    columns = ['Hist'])\n",
    "df_dice['Odds'] = df_dice['Hist'] + np.random.randint(1,7,5000)\n",
    "# Alpha decreases the opacity in the chart\n",
    "ax = df_dice.plot.hist(bins=12, alpha=0.5)\n",
    "\n",
    "# Basic plot using 1000 random values that create cumulative sums\n",
    "# over an increasing date range\n",
    "ser_5 = pd.Series(np.random.randn(1000),\n",
    "                 index=pd.date_range('11/15/2017', periods=1000))\n",
    "ser_5 = ser_5.cumsum()\n",
    "# ser_5.plot()\n",
    "\n",
    "# Display 3 random plots\n",
    "df_15 = pd.DataFrame(np.random.randn(1000, 3),\n",
    "                    index=pd.date_range('11/15/2017', periods=1000),\n",
    "                    columns=list('ABC'))\n",
    "df_15 = df_15.cumsum()\n",
    "# df_15.plot()\n",
    "\n",
    "# Make bar chart from 5 random values\n",
    "# pd.DataFrame(np.random.randn(5)).plot.bar()\n",
    "\n",
    "# Make MultiBar Charts\n",
    "vals = ['A', 'B', 'C', 'D']\n",
    "df_15 = pd.DataFrame(np.random.rand(10,4), columns=vals)\n",
    "# df_15.plot.bar()\n",
    "\n",
    "# Area plot \n",
    "# Define x range and y values\n",
    "x_rng = range(1,15)\n",
    "y_vals = [1,5,4,7,6,9,5,7,10,14,10,12,9,8]\n",
    "# Change fill color and opacity\n",
    "# plt.fill_between(x_rng, y_vals, color=\"skyblue\", alpha=0.5)\n",
    "# plt.show()\n",
    "\n",
    "# Area plot with multiple areas\n",
    "# pd.DataFrame(np.random.rand(10,3), columns=['A','B','C']).plot.area()\n",
    "\n",
    "# Create a scatterplot with 100 random values\n",
    "# pd.DataFrame(np.random.rand(100,2), \n",
    "#              columns=['A','B']).plot.scatter(x='A', y='B')\n",
    "\n",
    "# Multiple column scatter plots\n",
    "df_15 = pd.DataFrame(np.random.rand(50,4), columns=['A','B','C','D'])\n",
    "# ax = df_15.plot.scatter(x='A', y='B', color='DarkBlue', label='Grp 1')\n",
    "# df_15.plot.scatter(x='C', y='D', color='Orange', label='Grp 2', ax=ax)\n",
    "\n",
    "# Pie Charts with 4 random values\n",
    "# pd.Series(np.random.rand(4),\n",
    "#          index=['a','b','c','d'], \n",
    "#           name='Pie').plot.pie(figsize=(6,6))\n"
   ]
  }
 ],
 "metadata": {
  "kernelspec": {
   "display_name": "Python 3.9 (tensorflow)",
   "language": "python",
   "name": "tensorflow"
  },
  "language_info": {
   "codemirror_mode": {
    "name": "ipython",
    "version": 3
   },
   "file_extension": ".py",
   "mimetype": "text/x-python",
   "name": "python",
   "nbconvert_exporter": "python",
   "pygments_lexer": "ipython3",
   "version": "3.9.7"
  }
 },
 "nbformat": 4,
 "nbformat_minor": 5
}
